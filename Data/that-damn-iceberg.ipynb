{
 "cells": [
  {
   "cell_type": "markdown",
   "id": "b21f793f",
   "metadata": {
    "papermill": {
     "duration": 0.070264,
     "end_time": "2022-04-17T21:23:02.517892",
     "exception": false,
     "start_time": "2022-04-17T21:23:02.447628",
     "status": "completed"
    },
    "tags": []
   },
   "source": [
    "# **Import Libraries**"
   ]
  },
  {
   "cell_type": "code",
   "execution_count": 1,
   "id": "8711b5e9",
   "metadata": {
    "_cell_guid": "b1076dfc-b9ad-4769-8c92-a6c4dae69d19",
    "_uuid": "8f2839f25d086af736a60e9eeb907d3b93b6e0e5",
    "execution": {
     "iopub.execute_input": "2022-04-17T21:23:02.653241Z",
     "iopub.status.busy": "2022-04-17T21:23:02.652276Z",
     "iopub.status.idle": "2022-04-17T21:23:03.747183Z",
     "shell.execute_reply": "2022-04-17T21:23:03.746537Z"
    },
    "papermill": {
     "duration": 1.164998,
     "end_time": "2022-04-17T21:23:03.749585",
     "exception": false,
     "start_time": "2022-04-17T21:23:02.584587",
     "status": "completed"
    },
    "tags": []
   },
   "outputs": [],
   "source": [
    "import numpy as np\n",
    "import pandas as pd\n",
    "\n",
    "import matplotlib.pyplot as plt\n",
    "import seaborn as sns"
   ]
  },
  {
   "cell_type": "markdown",
   "id": "5339d5f9",
   "metadata": {
    "papermill": {
     "duration": 0.065902,
     "end_time": "2022-04-17T21:23:03.882079",
     "exception": false,
     "start_time": "2022-04-17T21:23:03.816177",
     "status": "completed"
    },
    "tags": []
   },
   "source": [
    "# **Read the data**"
   ]
  },
  {
   "cell_type": "code",
   "execution_count": 2,
   "id": "c946e222",
   "metadata": {
    "execution": {
     "iopub.execute_input": "2022-04-17T21:23:04.018391Z",
     "iopub.status.busy": "2022-04-17T21:23:04.017472Z",
     "iopub.status.idle": "2022-04-17T21:23:04.043904Z",
     "shell.execute_reply": "2022-04-17T21:23:04.043282Z"
    },
    "papermill": {
     "duration": 0.096144,
     "end_time": "2022-04-17T21:23:04.046096",
     "exception": false,
     "start_time": "2022-04-17T21:23:03.949952",
     "status": "completed"
    },
    "tags": []
   },
   "outputs": [],
   "source": [
    "train = pd.read_csv('../input/titanic/train.csv')\n",
    "test = pd.read_csv('../input/titanic/test.csv')"
   ]
  },
  {
   "cell_type": "markdown",
   "id": "84c21954",
   "metadata": {
    "papermill": {
     "duration": 0.066747,
     "end_time": "2022-04-17T21:23:04.179420",
     "exception": false,
     "start_time": "2022-04-17T21:23:04.112673",
     "status": "completed"
    },
    "tags": []
   },
   "source": [
    "# **Analyze train data**"
   ]
  },
  {
   "cell_type": "code",
   "execution_count": 3,
   "id": "27d83f57",
   "metadata": {
    "execution": {
     "iopub.execute_input": "2022-04-17T21:23:04.313530Z",
     "iopub.status.busy": "2022-04-17T21:23:04.313200Z",
     "iopub.status.idle": "2022-04-17T21:23:04.340516Z",
     "shell.execute_reply": "2022-04-17T21:23:04.339686Z"
    },
    "papermill": {
     "duration": 0.097106,
     "end_time": "2022-04-17T21:23:04.342793",
     "exception": false,
     "start_time": "2022-04-17T21:23:04.245687",
     "status": "completed"
    },
    "tags": []
   },
   "outputs": [
    {
     "data": {
      "text/html": [
       "<div>\n",
       "<style scoped>\n",
       "    .dataframe tbody tr th:only-of-type {\n",
       "        vertical-align: middle;\n",
       "    }\n",
       "\n",
       "    .dataframe tbody tr th {\n",
       "        vertical-align: top;\n",
       "    }\n",
       "\n",
       "    .dataframe thead th {\n",
       "        text-align: right;\n",
       "    }\n",
       "</style>\n",
       "<table border=\"1\" class=\"dataframe\">\n",
       "  <thead>\n",
       "    <tr style=\"text-align: right;\">\n",
       "      <th></th>\n",
       "      <th>PassengerId</th>\n",
       "      <th>Survived</th>\n",
       "      <th>Pclass</th>\n",
       "      <th>Name</th>\n",
       "      <th>Sex</th>\n",
       "      <th>Age</th>\n",
       "      <th>SibSp</th>\n",
       "      <th>Parch</th>\n",
       "      <th>Ticket</th>\n",
       "      <th>Fare</th>\n",
       "      <th>Cabin</th>\n",
       "      <th>Embarked</th>\n",
       "    </tr>\n",
       "  </thead>\n",
       "  <tbody>\n",
       "    <tr>\n",
       "      <th>105</th>\n",
       "      <td>106</td>\n",
       "      <td>0</td>\n",
       "      <td>3</td>\n",
       "      <td>Mionoff, Mr. Stoytcho</td>\n",
       "      <td>male</td>\n",
       "      <td>28.0</td>\n",
       "      <td>0</td>\n",
       "      <td>0</td>\n",
       "      <td>349207</td>\n",
       "      <td>7.8958</td>\n",
       "      <td>NaN</td>\n",
       "      <td>S</td>\n",
       "    </tr>\n",
       "    <tr>\n",
       "      <th>792</th>\n",
       "      <td>793</td>\n",
       "      <td>0</td>\n",
       "      <td>3</td>\n",
       "      <td>Sage, Miss. Stella Anna</td>\n",
       "      <td>female</td>\n",
       "      <td>NaN</td>\n",
       "      <td>8</td>\n",
       "      <td>2</td>\n",
       "      <td>CA. 2343</td>\n",
       "      <td>69.5500</td>\n",
       "      <td>NaN</td>\n",
       "      <td>S</td>\n",
       "    </tr>\n",
       "    <tr>\n",
       "      <th>85</th>\n",
       "      <td>86</td>\n",
       "      <td>1</td>\n",
       "      <td>3</td>\n",
       "      <td>Backstrom, Mrs. Karl Alfred (Maria Mathilda Gu...</td>\n",
       "      <td>female</td>\n",
       "      <td>33.0</td>\n",
       "      <td>3</td>\n",
       "      <td>0</td>\n",
       "      <td>3101278</td>\n",
       "      <td>15.8500</td>\n",
       "      <td>NaN</td>\n",
       "      <td>S</td>\n",
       "    </tr>\n",
       "    <tr>\n",
       "      <th>793</th>\n",
       "      <td>794</td>\n",
       "      <td>0</td>\n",
       "      <td>1</td>\n",
       "      <td>Hoyt, Mr. William Fisher</td>\n",
       "      <td>male</td>\n",
       "      <td>NaN</td>\n",
       "      <td>0</td>\n",
       "      <td>0</td>\n",
       "      <td>PC 17600</td>\n",
       "      <td>30.6958</td>\n",
       "      <td>NaN</td>\n",
       "      <td>C</td>\n",
       "    </tr>\n",
       "    <tr>\n",
       "      <th>263</th>\n",
       "      <td>264</td>\n",
       "      <td>0</td>\n",
       "      <td>1</td>\n",
       "      <td>Harrison, Mr. William</td>\n",
       "      <td>male</td>\n",
       "      <td>40.0</td>\n",
       "      <td>0</td>\n",
       "      <td>0</td>\n",
       "      <td>112059</td>\n",
       "      <td>0.0000</td>\n",
       "      <td>B94</td>\n",
       "      <td>S</td>\n",
       "    </tr>\n",
       "  </tbody>\n",
       "</table>\n",
       "</div>"
      ],
      "text/plain": [
       "     PassengerId  Survived  Pclass  \\\n",
       "105          106         0       3   \n",
       "792          793         0       3   \n",
       "85            86         1       3   \n",
       "793          794         0       1   \n",
       "263          264         0       1   \n",
       "\n",
       "                                                  Name     Sex   Age  SibSp  \\\n",
       "105                              Mionoff, Mr. Stoytcho    male  28.0      0   \n",
       "792                            Sage, Miss. Stella Anna  female   NaN      8   \n",
       "85   Backstrom, Mrs. Karl Alfred (Maria Mathilda Gu...  female  33.0      3   \n",
       "793                           Hoyt, Mr. William Fisher    male   NaN      0   \n",
       "263                              Harrison, Mr. William    male  40.0      0   \n",
       "\n",
       "     Parch    Ticket     Fare Cabin Embarked  \n",
       "105      0    349207   7.8958   NaN        S  \n",
       "792      2  CA. 2343  69.5500   NaN        S  \n",
       "85       0   3101278  15.8500   NaN        S  \n",
       "793      0  PC 17600  30.6958   NaN        C  \n",
       "263      0    112059   0.0000   B94        S  "
      ]
     },
     "execution_count": 3,
     "metadata": {},
     "output_type": "execute_result"
    }
   ],
   "source": [
    "train.sample(5)"
   ]
  },
  {
   "cell_type": "code",
   "execution_count": 4,
   "id": "a52c3708",
   "metadata": {
    "execution": {
     "iopub.execute_input": "2022-04-17T21:23:04.478861Z",
     "iopub.status.busy": "2022-04-17T21:23:04.478343Z",
     "iopub.status.idle": "2022-04-17T21:23:04.486085Z",
     "shell.execute_reply": "2022-04-17T21:23:04.485288Z"
    },
    "papermill": {
     "duration": 0.078243,
     "end_time": "2022-04-17T21:23:04.488137",
     "exception": false,
     "start_time": "2022-04-17T21:23:04.409894",
     "status": "completed"
    },
    "tags": []
   },
   "outputs": [
    {
     "name": "stdout",
     "output_type": "stream",
     "text": [
      "PassengerId      0\n",
      "Survived         0\n",
      "Pclass           0\n",
      "Name             0\n",
      "Sex              0\n",
      "Age            177\n",
      "SibSp            0\n",
      "Parch            0\n",
      "Ticket           0\n",
      "Fare             0\n",
      "Cabin          687\n",
      "Embarked         2\n",
      "dtype: int64\n",
      "..............................\n",
      "Number of observations: 891\n"
     ]
    }
   ],
   "source": [
    "print(train.isnull().sum())\n",
    "print('.'*30)\n",
    "print(f'Number of observations: {train.shape[0]}')"
   ]
  },
  {
   "cell_type": "markdown",
   "id": "fe5691e9",
   "metadata": {
    "papermill": {
     "duration": 0.06769,
     "end_time": "2022-04-17T21:23:04.623306",
     "exception": false,
     "start_time": "2022-04-17T21:23:04.555616",
     "status": "completed"
    },
    "tags": []
   },
   "source": [
    "**There are many missing values in *Age* which I'll try to estimate later. There are 891 rows and *Embarked* has 2 missing values. Dropping them should not casue any problem. On the other hand *Cabin* has 687 missing values. So I'll drop the whole column.**"
   ]
  },
  {
   "cell_type": "code",
   "execution_count": 5,
   "id": "a499d475",
   "metadata": {
    "execution": {
     "iopub.execute_input": "2022-04-17T21:23:04.761467Z",
     "iopub.status.busy": "2022-04-17T21:23:04.760985Z",
     "iopub.status.idle": "2022-04-17T21:23:04.774990Z",
     "shell.execute_reply": "2022-04-17T21:23:04.774388Z"
    },
    "papermill": {
     "duration": 0.08663,
     "end_time": "2022-04-17T21:23:04.777383",
     "exception": false,
     "start_time": "2022-04-17T21:23:04.690753",
     "status": "completed"
    },
    "tags": []
   },
   "outputs": [
    {
     "name": "stdout",
     "output_type": "stream",
     "text": [
      "PassengerId      0\n",
      "Survived         0\n",
      "Pclass           0\n",
      "Name             0\n",
      "Sex              0\n",
      "Age            177\n",
      "SibSp            0\n",
      "Parch            0\n",
      "Ticket           0\n",
      "Fare             0\n",
      "Embarked         0\n",
      "dtype: int64\n",
      "..............................\n",
      "Number of observations: 889\n"
     ]
    }
   ],
   "source": [
    "train.dropna(axis=0, subset=['Embarked'], inplace=True)\n",
    "train.drop(axis=1, columns=['Cabin'], inplace=True)\n",
    "\n",
    "print(train.isnull().sum())\n",
    "print('.'*30)\n",
    "print(f'Number of observations: {train.shape[0]}')"
   ]
  },
  {
   "cell_type": "markdown",
   "id": "c9c07503",
   "metadata": {
    "papermill": {
     "duration": 0.067332,
     "end_time": "2022-04-17T21:23:04.912393",
     "exception": false,
     "start_time": "2022-04-17T21:23:04.845061",
     "status": "completed"
    },
    "tags": []
   },
   "source": [
    "**Also, it seems like *PassengerId* will not predict *Survival*. Also, *Ticket* does not look useful, so let's drop it.**"
   ]
  },
  {
   "cell_type": "code",
   "execution_count": 6,
   "id": "280b47fe",
   "metadata": {
    "execution": {
     "iopub.execute_input": "2022-04-17T21:23:05.051804Z",
     "iopub.status.busy": "2022-04-17T21:23:05.051278Z",
     "iopub.status.idle": "2022-04-17T21:23:05.067745Z",
     "shell.execute_reply": "2022-04-17T21:23:05.066788Z"
    },
    "papermill": {
     "duration": 0.088477,
     "end_time": "2022-04-17T21:23:05.069785",
     "exception": false,
     "start_time": "2022-04-17T21:23:04.981308",
     "status": "completed"
    },
    "tags": []
   },
   "outputs": [
    {
     "data": {
      "text/html": [
       "<div>\n",
       "<style scoped>\n",
       "    .dataframe tbody tr th:only-of-type {\n",
       "        vertical-align: middle;\n",
       "    }\n",
       "\n",
       "    .dataframe tbody tr th {\n",
       "        vertical-align: top;\n",
       "    }\n",
       "\n",
       "    .dataframe thead th {\n",
       "        text-align: right;\n",
       "    }\n",
       "</style>\n",
       "<table border=\"1\" class=\"dataframe\">\n",
       "  <thead>\n",
       "    <tr style=\"text-align: right;\">\n",
       "      <th></th>\n",
       "      <th>Survived</th>\n",
       "      <th>Pclass</th>\n",
       "      <th>Name</th>\n",
       "      <th>Sex</th>\n",
       "      <th>Age</th>\n",
       "      <th>SibSp</th>\n",
       "      <th>Parch</th>\n",
       "      <th>Fare</th>\n",
       "      <th>Embarked</th>\n",
       "    </tr>\n",
       "  </thead>\n",
       "  <tbody>\n",
       "    <tr>\n",
       "      <th>0</th>\n",
       "      <td>0</td>\n",
       "      <td>3</td>\n",
       "      <td>Braund, Mr. Owen Harris</td>\n",
       "      <td>male</td>\n",
       "      <td>22.0</td>\n",
       "      <td>1</td>\n",
       "      <td>0</td>\n",
       "      <td>7.2500</td>\n",
       "      <td>S</td>\n",
       "    </tr>\n",
       "    <tr>\n",
       "      <th>1</th>\n",
       "      <td>1</td>\n",
       "      <td>1</td>\n",
       "      <td>Cumings, Mrs. John Bradley (Florence Briggs Th...</td>\n",
       "      <td>female</td>\n",
       "      <td>38.0</td>\n",
       "      <td>1</td>\n",
       "      <td>0</td>\n",
       "      <td>71.2833</td>\n",
       "      <td>C</td>\n",
       "    </tr>\n",
       "    <tr>\n",
       "      <th>2</th>\n",
       "      <td>1</td>\n",
       "      <td>3</td>\n",
       "      <td>Heikkinen, Miss. Laina</td>\n",
       "      <td>female</td>\n",
       "      <td>26.0</td>\n",
       "      <td>0</td>\n",
       "      <td>0</td>\n",
       "      <td>7.9250</td>\n",
       "      <td>S</td>\n",
       "    </tr>\n",
       "    <tr>\n",
       "      <th>3</th>\n",
       "      <td>1</td>\n",
       "      <td>1</td>\n",
       "      <td>Futrelle, Mrs. Jacques Heath (Lily May Peel)</td>\n",
       "      <td>female</td>\n",
       "      <td>35.0</td>\n",
       "      <td>1</td>\n",
       "      <td>0</td>\n",
       "      <td>53.1000</td>\n",
       "      <td>S</td>\n",
       "    </tr>\n",
       "    <tr>\n",
       "      <th>4</th>\n",
       "      <td>0</td>\n",
       "      <td>3</td>\n",
       "      <td>Allen, Mr. William Henry</td>\n",
       "      <td>male</td>\n",
       "      <td>35.0</td>\n",
       "      <td>0</td>\n",
       "      <td>0</td>\n",
       "      <td>8.0500</td>\n",
       "      <td>S</td>\n",
       "    </tr>\n",
       "  </tbody>\n",
       "</table>\n",
       "</div>"
      ],
      "text/plain": [
       "   Survived  Pclass                                               Name  \\\n",
       "0         0       3                            Braund, Mr. Owen Harris   \n",
       "1         1       1  Cumings, Mrs. John Bradley (Florence Briggs Th...   \n",
       "2         1       3                             Heikkinen, Miss. Laina   \n",
       "3         1       1       Futrelle, Mrs. Jacques Heath (Lily May Peel)   \n",
       "4         0       3                           Allen, Mr. William Henry   \n",
       "\n",
       "      Sex   Age  SibSp  Parch     Fare Embarked  \n",
       "0    male  22.0      1      0   7.2500        S  \n",
       "1  female  38.0      1      0  71.2833        C  \n",
       "2  female  26.0      0      0   7.9250        S  \n",
       "3  female  35.0      1      0  53.1000        S  \n",
       "4    male  35.0      0      0   8.0500        S  "
      ]
     },
     "execution_count": 6,
     "metadata": {},
     "output_type": "execute_result"
    }
   ],
   "source": [
    "train.drop(axis=1, columns=['PassengerId', 'Ticket'], inplace=True)\n",
    "train.head()"
   ]
  },
  {
   "cell_type": "markdown",
   "id": "43d4db6d",
   "metadata": {
    "papermill": {
     "duration": 0.068092,
     "end_time": "2022-04-17T21:23:05.206615",
     "exception": false,
     "start_time": "2022-04-17T21:23:05.138523",
     "status": "completed"
    },
    "tags": []
   },
   "source": [
    "## Pclass"
   ]
  },
  {
   "cell_type": "code",
   "execution_count": 7,
   "id": "15966150",
   "metadata": {
    "execution": {
     "iopub.execute_input": "2022-04-17T21:23:05.345874Z",
     "iopub.status.busy": "2022-04-17T21:23:05.345327Z",
     "iopub.status.idle": "2022-04-17T21:23:05.671741Z",
     "shell.execute_reply": "2022-04-17T21:23:05.671188Z"
    },
    "papermill": {
     "duration": 0.398959,
     "end_time": "2022-04-17T21:23:05.673660",
     "exception": false,
     "start_time": "2022-04-17T21:23:05.274701",
     "status": "completed"
    },
    "tags": []
   },
   "outputs": [
    {
     "data": {
      "image/png": "[encoded data removed]",
      "text/plain": [
       "<Figure size 432x288 with 1 Axes>"
      ]
     },
     "metadata": {
      "needs_background": "light"
     },
     "output_type": "display_data"
    },
    {
     "data": {
      "text/html": [
       "<div>\n",
       "<style scoped>\n",
       "    .dataframe tbody tr th:only-of-type {\n",
       "        vertical-align: middle;\n",
       "    }\n",
       "\n",
       "    .dataframe tbody tr th {\n",
       "        vertical-align: top;\n",
       "    }\n",
       "\n",
       "    .dataframe thead th {\n",
       "        text-align: right;\n",
       "    }\n",
       "</style>\n",
       "<table border=\"1\" class=\"dataframe\">\n",
       "  <thead>\n",
       "    <tr style=\"text-align: right;\">\n",
       "      <th></th>\n",
       "      <th>Pclass</th>\n",
       "      <th>Survived</th>\n",
       "    </tr>\n",
       "  </thead>\n",
       "  <tbody>\n",
       "    <tr>\n",
       "      <th>0</th>\n",
       "      <td>1</td>\n",
       "      <td>0.626168</td>\n",
       "    </tr>\n",
       "    <tr>\n",
       "      <th>1</th>\n",
       "      <td>2</td>\n",
       "      <td>0.472826</td>\n",
       "    </tr>\n",
       "    <tr>\n",
       "      <th>2</th>\n",
       "      <td>3</td>\n",
       "      <td>0.242363</td>\n",
       "    </tr>\n",
       "  </tbody>\n",
       "</table>\n",
       "</div>"
      ],
      "text/plain": [
       "   Pclass  Survived\n",
       "0       1  0.626168\n",
       "1       2  0.472826\n",
       "2       3  0.242363"
      ]
     },
     "execution_count": 7,
     "metadata": {},
     "output_type": "execute_result"
    }
   ],
   "source": [
    "sns.barplot(x=\"Pclass\", y=\"Survived\", data=train)\n",
    "plt.show();\n",
    "\n",
    "train[['Pclass', 'Survived']].groupby('Pclass',as_index=False).mean()"
   ]
  },
  {
   "cell_type": "markdown",
   "id": "79f1ebc4",
   "metadata": {
    "papermill": {
     "duration": 0.068978,
     "end_time": "2022-04-17T21:23:05.812067",
     "exception": false,
     "start_time": "2022-04-17T21:23:05.743089",
     "status": "completed"
    },
    "tags": []
   },
   "source": [
    "**Looks like high class passengers had greater survival rate.**"
   ]
  },
  {
   "cell_type": "markdown",
   "id": "55286d94",
   "metadata": {
    "papermill": {
     "duration": 0.068706,
     "end_time": "2022-04-17T21:23:05.950027",
     "exception": false,
     "start_time": "2022-04-17T21:23:05.881321",
     "status": "completed"
    },
    "tags": []
   },
   "source": [
    "## Sex"
   ]
  },
  {
   "cell_type": "code",
   "execution_count": 8,
   "id": "d6257662",
   "metadata": {
    "execution": {
     "iopub.execute_input": "2022-04-17T21:23:06.090711Z",
     "iopub.status.busy": "2022-04-17T21:23:06.090133Z",
     "iopub.status.idle": "2022-04-17T21:23:06.336702Z",
     "shell.execute_reply": "2022-04-17T21:23:06.335876Z"
    },
    "papermill": {
     "duration": 0.319422,
     "end_time": "2022-04-17T21:23:06.338858",
     "exception": false,
     "start_time": "2022-04-17T21:23:06.019436",
     "status": "completed"
    },
    "tags": []
   },
   "outputs": [
    {
     "data": {
      "image/png": "[encoded data removed]",
      "text/plain": [
       "<Figure size 432x288 with 1 Axes>"
      ]
     },
     "metadata": {
      "needs_background": "light"
     },
     "output_type": "display_data"
    },
    {
     "data": {
      "text/html": [
       "<div>\n",
       "<style scoped>\n",
       "    .dataframe tbody tr th:only-of-type {\n",
       "        vertical-align: middle;\n",
       "    }\n",
       "\n",
       "    .dataframe tbody tr th {\n",
       "        vertical-align: top;\n",
       "    }\n",
       "\n",
       "    .dataframe thead th {\n",
       "        text-align: right;\n",
       "    }\n",
       "</style>\n",
       "<table border=\"1\" class=\"dataframe\">\n",
       "  <thead>\n",
       "    <tr style=\"text-align: right;\">\n",
       "      <th></th>\n",
       "      <th>Sex</th>\n",
       "      <th>Survived</th>\n",
       "    </tr>\n",
       "  </thead>\n",
       "  <tbody>\n",
       "    <tr>\n",
       "      <th>0</th>\n",
       "      <td>female</td>\n",
       "      <td>0.740385</td>\n",
       "    </tr>\n",
       "    <tr>\n",
       "      <th>1</th>\n",
       "      <td>male</td>\n",
       "      <td>0.188908</td>\n",
       "    </tr>\n",
       "  </tbody>\n",
       "</table>\n",
       "</div>"
      ],
      "text/plain": [
       "      Sex  Survived\n",
       "0  female  0.740385\n",
       "1    male  0.188908"
      ]
     },
     "execution_count": 8,
     "metadata": {},
     "output_type": "execute_result"
    }
   ],
   "source": [
    "sns.barplot(x=\"Sex\", y=\"Survived\", data=train)\n",
    "plt.show();\n",
    "\n",
    "train[['Sex', 'Survived']].groupby('Sex',as_index=False).mean()"
   ]
  },
  {
   "cell_type": "markdown",
   "id": "9c50d71e",
   "metadata": {
    "papermill": {
     "duration": 0.070248,
     "end_time": "2022-04-17T21:23:06.480937",
     "exception": false,
     "start_time": "2022-04-17T21:23:06.410689",
     "status": "completed"
    },
    "tags": []
   },
   "source": [
    "**Female passengers' survival rate is far greater than male passengers' survival rate.**"
   ]
  },
  {
   "cell_type": "markdown",
   "id": "3154f18a",
   "metadata": {
    "papermill": {
     "duration": 0.070304,
     "end_time": "2022-04-17T21:23:06.621664",
     "exception": false,
     "start_time": "2022-04-17T21:23:06.551360",
     "status": "completed"
    },
    "tags": []
   },
   "source": [
    "**Make Sex binary -> 'male':0, 'female':1**"
   ]
  },
  {
   "cell_type": "code",
   "execution_count": 9,
   "id": "c1b124ac",
   "metadata": {
    "execution": {
     "iopub.execute_input": "2022-04-17T21:23:06.765576Z",
     "iopub.status.busy": "2022-04-17T21:23:06.765316Z",
     "iopub.status.idle": "2022-04-17T21:23:06.771467Z",
     "shell.execute_reply": "2022-04-17T21:23:06.770663Z"
    },
    "papermill": {
     "duration": 0.081218,
     "end_time": "2022-04-17T21:23:06.773374",
     "exception": false,
     "start_time": "2022-04-17T21:23:06.692156",
     "status": "completed"
    },
    "tags": []
   },
   "outputs": [],
   "source": [
    "train.loc[train['Sex']=='male','Sex']=0\n",
    "train.loc[train['Sex']=='female','Sex']=1"
   ]
  },
  {
   "cell_type": "markdown",
   "id": "9c0eb228",
   "metadata": {
    "papermill": {
     "duration": 0.070938,
     "end_time": "2022-04-17T21:23:06.914874",
     "exception": false,
     "start_time": "2022-04-17T21:23:06.843936",
     "status": "completed"
    },
    "tags": []
   },
   "source": [
    "## SibSp"
   ]
  },
  {
   "cell_type": "code",
   "execution_count": 10,
   "id": "a3f1152b",
   "metadata": {
    "execution": {
     "iopub.execute_input": "2022-04-17T21:23:07.059426Z",
     "iopub.status.busy": "2022-04-17T21:23:07.058873Z",
     "iopub.status.idle": "2022-04-17T21:23:07.492816Z",
     "shell.execute_reply": "2022-04-17T21:23:07.491970Z"
    },
    "papermill": {
     "duration": 0.50893,
     "end_time": "2022-04-17T21:23:07.494981",
     "exception": false,
     "start_time": "2022-04-17T21:23:06.986051",
     "status": "completed"
    },
    "tags": []
   },
   "outputs": [
    {
     "data": {
      "image/png": "[encoded data removed]",
      "text/plain": [
       "<Figure size 432x288 with 1 Axes>"
      ]
     },
     "metadata": {
      "needs_background": "light"
     },
     "output_type": "display_data"
    },
    {
     "data": {
      "text/html": [
       "<div>\n",
       "<style scoped>\n",
       "    .dataframe tbody tr th:only-of-type {\n",
       "        vertical-align: middle;\n",
       "    }\n",
       "\n",
       "    .dataframe tbody tr th {\n",
       "        vertical-align: top;\n",
       "    }\n",
       "\n",
       "    .dataframe thead th {\n",
       "        text-align: right;\n",
       "    }\n",
       "</style>\n",
       "<table border=\"1\" class=\"dataframe\">\n",
       "  <thead>\n",
       "    <tr style=\"text-align: right;\">\n",
       "      <th></th>\n",
       "      <th>SibSp</th>\n",
       "      <th>Survived</th>\n",
       "    </tr>\n",
       "  </thead>\n",
       "  <tbody>\n",
       "    <tr>\n",
       "      <th>1</th>\n",
       "      <td>1</td>\n",
       "      <td>0.535885</td>\n",
       "    </tr>\n",
       "    <tr>\n",
       "      <th>2</th>\n",
       "      <td>2</td>\n",
       "      <td>0.464286</td>\n",
       "    </tr>\n",
       "    <tr>\n",
       "      <th>0</th>\n",
       "      <td>0</td>\n",
       "      <td>0.343234</td>\n",
       "    </tr>\n",
       "    <tr>\n",
       "      <th>3</th>\n",
       "      <td>3</td>\n",
       "      <td>0.250000</td>\n",
       "    </tr>\n",
       "    <tr>\n",
       "      <th>4</th>\n",
       "      <td>4</td>\n",
       "      <td>0.166667</td>\n",
       "    </tr>\n",
       "    <tr>\n",
       "      <th>5</th>\n",
       "      <td>5</td>\n",
       "      <td>0.000000</td>\n",
       "    </tr>\n",
       "    <tr>\n",
       "      <th>6</th>\n",
       "      <td>8</td>\n",
       "      <td>0.000000</td>\n",
       "    </tr>\n",
       "  </tbody>\n",
       "</table>\n",
       "</div>"
      ],
      "text/plain": [
       "   SibSp  Survived\n",
       "1      1  0.535885\n",
       "2      2  0.464286\n",
       "0      0  0.343234\n",
       "3      3  0.250000\n",
       "4      4  0.166667\n",
       "5      5  0.000000\n",
       "6      8  0.000000"
      ]
     },
     "execution_count": 10,
     "metadata": {},
     "output_type": "execute_result"
    }
   ],
   "source": [
    "sns.barplot(x=\"SibSp\", y=\"Survived\", data=train)\n",
    "plt.show();\n",
    "\n",
    "train[['SibSp', 'Survived']].groupby('SibSp',as_index=False).mean().sort_values(by='Survived', ascending=False)"
   ]
  },
  {
   "cell_type": "markdown",
   "id": "9f34cc98",
   "metadata": {
    "papermill": {
     "duration": 0.073505,
     "end_time": "2022-04-17T21:23:07.640675",
     "exception": false,
     "start_time": "2022-04-17T21:23:07.567170",
     "status": "completed"
    },
    "tags": []
   },
   "source": [
    "**Passengers with no *SibSp* have lower rate of survival compared those with 1 or 2 *SibSp*, though higher than those with 3 or more *SibSp*. Passengers with *SibSp* of 1 have highest survival rate and it declines with increasing number of *SibSp*.**"
   ]
  },
  {
   "cell_type": "markdown",
   "id": "95326239",
   "metadata": {
    "papermill": {
     "duration": 0.073342,
     "end_time": "2022-04-17T21:23:07.785993",
     "exception": false,
     "start_time": "2022-04-17T21:23:07.712651",
     "status": "completed"
    },
    "tags": []
   },
   "source": [
    "**I'll change this feature: 0 if without *SibSp*, 1 if with *SibSp* is 1 or more.**"
   ]
  },
  {
   "cell_type": "code",
   "execution_count": 11,
   "id": "fe1efa21",
   "metadata": {
    "execution": {
     "iopub.execute_input": "2022-04-17T21:23:07.933955Z",
     "iopub.status.busy": "2022-04-17T21:23:07.933676Z",
     "iopub.status.idle": "2022-04-17T21:23:07.950652Z",
     "shell.execute_reply": "2022-04-17T21:23:07.949807Z"
    },
    "papermill": {
     "duration": 0.094159,
     "end_time": "2022-04-17T21:23:07.952830",
     "exception": false,
     "start_time": "2022-04-17T21:23:07.858671",
     "status": "completed"
    },
    "tags": []
   },
   "outputs": [
    {
     "data": {
      "text/html": [
       "<div>\n",
       "<style scoped>\n",
       "    .dataframe tbody tr th:only-of-type {\n",
       "        vertical-align: middle;\n",
       "    }\n",
       "\n",
       "    .dataframe tbody tr th {\n",
       "        vertical-align: top;\n",
       "    }\n",
       "\n",
       "    .dataframe thead th {\n",
       "        text-align: right;\n",
       "    }\n",
       "</style>\n",
       "<table border=\"1\" class=\"dataframe\">\n",
       "  <thead>\n",
       "    <tr style=\"text-align: right;\">\n",
       "      <th></th>\n",
       "      <th>WithSibSp</th>\n",
       "      <th>Survived</th>\n",
       "    </tr>\n",
       "  </thead>\n",
       "  <tbody>\n",
       "    <tr>\n",
       "      <th>1</th>\n",
       "      <td>1</td>\n",
       "      <td>0.466431</td>\n",
       "    </tr>\n",
       "    <tr>\n",
       "      <th>0</th>\n",
       "      <td>0</td>\n",
       "      <td>0.343234</td>\n",
       "    </tr>\n",
       "  </tbody>\n",
       "</table>\n",
       "</div>"
      ],
      "text/plain": [
       "   WithSibSp  Survived\n",
       "1          1  0.466431\n",
       "0          0  0.343234"
      ]
     },
     "execution_count": 11,
     "metadata": {},
     "output_type": "execute_result"
    }
   ],
   "source": [
    "train.loc[train['SibSp']==0,'WithSibSp'] = 0\n",
    "train.loc[train['SibSp']>0,'WithSibSp'] = 1\n",
    "train['WithSibSp']=train['WithSibSp'].astype(int)\n",
    "train[['WithSibSp', 'Survived']].groupby(['WithSibSp'],as_index=False).mean().sort_values(by='Survived', ascending=False)"
   ]
  },
  {
   "cell_type": "markdown",
   "id": "94c9157c",
   "metadata": {
    "papermill": {
     "duration": 0.072648,
     "end_time": "2022-04-17T21:23:08.099265",
     "exception": false,
     "start_time": "2022-04-17T21:23:08.026617",
     "status": "completed"
    },
    "tags": []
   },
   "source": [
    "**Now, survival rate is higher when with sibling or spose aboard.**"
   ]
  },
  {
   "cell_type": "code",
   "execution_count": 12,
   "id": "909bfffb",
   "metadata": {
    "execution": {
     "iopub.execute_input": "2022-04-17T21:23:08.248409Z",
     "iopub.status.busy": "2022-04-17T21:23:08.248108Z",
     "iopub.status.idle": "2022-04-17T21:23:08.253454Z",
     "shell.execute_reply": "2022-04-17T21:23:08.252580Z"
    },
    "papermill": {
     "duration": 0.082766,
     "end_time": "2022-04-17T21:23:08.255514",
     "exception": false,
     "start_time": "2022-04-17T21:23:08.172748",
     "status": "completed"
    },
    "tags": []
   },
   "outputs": [],
   "source": [
    "#drop SibSp\n",
    "train = train.drop('SibSp', axis=1)"
   ]
  },
  {
   "cell_type": "markdown",
   "id": "c3960bf2",
   "metadata": {
    "papermill": {
     "duration": 0.072407,
     "end_time": "2022-04-17T21:23:08.401761",
     "exception": false,
     "start_time": "2022-04-17T21:23:08.329354",
     "status": "completed"
    },
    "tags": []
   },
   "source": [
    "## Parch"
   ]
  },
  {
   "cell_type": "code",
   "execution_count": 13,
   "id": "2eff82cd",
   "metadata": {
    "execution": {
     "iopub.execute_input": "2022-04-17T21:23:08.549544Z",
     "iopub.status.busy": "2022-04-17T21:23:08.548966Z",
     "iopub.status.idle": "2022-04-17T21:23:08.941059Z",
     "shell.execute_reply": "2022-04-17T21:23:08.940267Z"
    },
    "papermill": {
     "duration": 0.468572,
     "end_time": "2022-04-17T21:23:08.943246",
     "exception": false,
     "start_time": "2022-04-17T21:23:08.474674",
     "status": "completed"
    },
    "tags": []
   },
   "outputs": [
    {
     "data": {
      "image/png": "[encoded data removed]",
      "text/plain": [
       "<Figure size 432x288 with 1 Axes>"
      ]
     },
     "metadata": {
      "needs_background": "light"
     },
     "output_type": "display_data"
    },
    {
     "data": {
      "text/html": [
       "<div>\n",
       "<style scoped>\n",
       "    .dataframe tbody tr th:only-of-type {\n",
       "        vertical-align: middle;\n",
       "    }\n",
       "\n",
       "    .dataframe tbody tr th {\n",
       "        vertical-align: top;\n",
       "    }\n",
       "\n",
       "    .dataframe thead th {\n",
       "        text-align: right;\n",
       "    }\n",
       "</style>\n",
       "<table border=\"1\" class=\"dataframe\">\n",
       "  <thead>\n",
       "    <tr style=\"text-align: right;\">\n",
       "      <th></th>\n",
       "      <th>Parch</th>\n",
       "      <th>Survived</th>\n",
       "    </tr>\n",
       "  </thead>\n",
       "  <tbody>\n",
       "    <tr>\n",
       "      <th>3</th>\n",
       "      <td>3</td>\n",
       "      <td>0.600000</td>\n",
       "    </tr>\n",
       "    <tr>\n",
       "      <th>1</th>\n",
       "      <td>1</td>\n",
       "      <td>0.550847</td>\n",
       "    </tr>\n",
       "    <tr>\n",
       "      <th>2</th>\n",
       "      <td>2</td>\n",
       "      <td>0.500000</td>\n",
       "    </tr>\n",
       "    <tr>\n",
       "      <th>0</th>\n",
       "      <td>0</td>\n",
       "      <td>0.341716</td>\n",
       "    </tr>\n",
       "    <tr>\n",
       "      <th>5</th>\n",
       "      <td>5</td>\n",
       "      <td>0.200000</td>\n",
       "    </tr>\n",
       "    <tr>\n",
       "      <th>4</th>\n",
       "      <td>4</td>\n",
       "      <td>0.000000</td>\n",
       "    </tr>\n",
       "    <tr>\n",
       "      <th>6</th>\n",
       "      <td>6</td>\n",
       "      <td>0.000000</td>\n",
       "    </tr>\n",
       "  </tbody>\n",
       "</table>\n",
       "</div>"
      ],
      "text/plain": [
       "   Parch  Survived\n",
       "3      3  0.600000\n",
       "1      1  0.550847\n",
       "2      2  0.500000\n",
       "0      0  0.341716\n",
       "5      5  0.200000\n",
       "4      4  0.000000\n",
       "6      6  0.000000"
      ]
     },
     "execution_count": 13,
     "metadata": {},
     "output_type": "execute_result"
    }
   ],
   "source": [
    "sns.barplot(x='Parch', y='Survived', data=train)\n",
    "plt.show();\n",
    "\n",
    "train[['Parch', 'Survived']].groupby('Parch',as_index=False).mean().sort_values(by='Survived', ascending=False)"
   ]
  },
  {
   "cell_type": "markdown",
   "id": "d259682d",
   "metadata": {
    "papermill": {
     "duration": 0.073864,
     "end_time": "2022-04-17T21:23:09.091302",
     "exception": false,
     "start_time": "2022-04-17T21:23:09.017438",
     "status": "completed"
    },
    "tags": []
   },
   "source": [
    "**Passengers without any parent or child aboard are more likely to survive than those with 4 or more Parch and less likely than those with 1-3 Parch aboard.**"
   ]
  },
  {
   "cell_type": "markdown",
   "id": "9c5fdbe0",
   "metadata": {
    "papermill": {
     "duration": 0.073554,
     "end_time": "2022-04-17T21:23:09.239487",
     "exception": false,
     "start_time": "2022-04-17T21:23:09.165933",
     "status": "completed"
    },
    "tags": []
   },
   "source": [
    "**I'll change this feature: 0 if without *Parch*, 1 if with *Parch* is 1 or more.**"
   ]
  },
  {
   "cell_type": "code",
   "execution_count": 14,
   "id": "502a3f44",
   "metadata": {
    "execution": {
     "iopub.execute_input": "2022-04-17T21:23:09.390480Z",
     "iopub.status.busy": "2022-04-17T21:23:09.389948Z",
     "iopub.status.idle": "2022-04-17T21:23:09.407250Z",
     "shell.execute_reply": "2022-04-17T21:23:09.406410Z"
    },
    "papermill": {
     "duration": 0.095518,
     "end_time": "2022-04-17T21:23:09.409111",
     "exception": false,
     "start_time": "2022-04-17T21:23:09.313593",
     "status": "completed"
    },
    "tags": []
   },
   "outputs": [
    {
     "data": {
      "text/html": [
       "<div>\n",
       "<style scoped>\n",
       "    .dataframe tbody tr th:only-of-type {\n",
       "        vertical-align: middle;\n",
       "    }\n",
       "\n",
       "    .dataframe tbody tr th {\n",
       "        vertical-align: top;\n",
       "    }\n",
       "\n",
       "    .dataframe thead th {\n",
       "        text-align: right;\n",
       "    }\n",
       "</style>\n",
       "<table border=\"1\" class=\"dataframe\">\n",
       "  <thead>\n",
       "    <tr style=\"text-align: right;\">\n",
       "      <th></th>\n",
       "      <th>WithParch</th>\n",
       "      <th>Survived</th>\n",
       "    </tr>\n",
       "  </thead>\n",
       "  <tbody>\n",
       "    <tr>\n",
       "      <th>1</th>\n",
       "      <td>1</td>\n",
       "      <td>0.511737</td>\n",
       "    </tr>\n",
       "    <tr>\n",
       "      <th>0</th>\n",
       "      <td>0</td>\n",
       "      <td>0.341716</td>\n",
       "    </tr>\n",
       "  </tbody>\n",
       "</table>\n",
       "</div>"
      ],
      "text/plain": [
       "   WithParch  Survived\n",
       "1          1  0.511737\n",
       "0          0  0.341716"
      ]
     },
     "execution_count": 14,
     "metadata": {},
     "output_type": "execute_result"
    }
   ],
   "source": [
    "train.loc[train['Parch']==0,'WithParch'] = 0\n",
    "train.loc[train['Parch']>0,'WithParch'] = 1\n",
    "train['WithParch']=train['WithParch'].astype(int)\n",
    "train[['WithParch', 'Survived']].groupby(['WithParch'],as_index=False).mean().sort_values(by='Survived', ascending=False)"
   ]
  },
  {
   "cell_type": "markdown",
   "id": "f6f6f629",
   "metadata": {
    "papermill": {
     "duration": 0.074238,
     "end_time": "2022-04-17T21:23:09.557547",
     "exception": false,
     "start_time": "2022-04-17T21:23:09.483309",
     "status": "completed"
    },
    "tags": []
   },
   "source": [
    "**Now, survival rate is higher when with parent or child aboard.**"
   ]
  },
  {
   "cell_type": "code",
   "execution_count": 15,
   "id": "2bf0e6e3",
   "metadata": {
    "execution": {
     "iopub.execute_input": "2022-04-17T21:23:09.707826Z",
     "iopub.status.busy": "2022-04-17T21:23:09.707304Z",
     "iopub.status.idle": "2022-04-17T21:23:09.711935Z",
     "shell.execute_reply": "2022-04-17T21:23:09.711289Z"
    },
    "papermill": {
     "duration": 0.082244,
     "end_time": "2022-04-17T21:23:09.713806",
     "exception": false,
     "start_time": "2022-04-17T21:23:09.631562",
     "status": "completed"
    },
    "tags": []
   },
   "outputs": [],
   "source": [
    "#drop Parch\n",
    "train = train.drop('Parch', axis=1)"
   ]
  },
  {
   "cell_type": "markdown",
   "id": "c193ac9a",
   "metadata": {
    "papermill": {
     "duration": 0.085262,
     "end_time": "2022-04-17T21:23:09.873399",
     "exception": false,
     "start_time": "2022-04-17T21:23:09.788137",
     "status": "completed"
    },
    "tags": []
   },
   "source": [
    "## Fare"
   ]
  },
  {
   "cell_type": "code",
   "execution_count": 16,
   "id": "267a218c",
   "metadata": {
    "execution": {
     "iopub.execute_input": "2022-04-17T21:23:10.024839Z",
     "iopub.status.busy": "2022-04-17T21:23:10.024328Z",
     "iopub.status.idle": "2022-04-17T21:23:10.045878Z",
     "shell.execute_reply": "2022-04-17T21:23:10.045291Z"
    },
    "papermill": {
     "duration": 0.100142,
     "end_time": "2022-04-17T21:23:10.047692",
     "exception": false,
     "start_time": "2022-04-17T21:23:09.947550",
     "status": "completed"
    },
    "tags": []
   },
   "outputs": [
    {
     "data": {
      "text/html": [
       "<div>\n",
       "<style scoped>\n",
       "    .dataframe tbody tr th:only-of-type {\n",
       "        vertical-align: middle;\n",
       "    }\n",
       "\n",
       "    .dataframe tbody tr th {\n",
       "        vertical-align: top;\n",
       "    }\n",
       "\n",
       "    .dataframe thead th {\n",
       "        text-align: right;\n",
       "    }\n",
       "</style>\n",
       "<table border=\"1\" class=\"dataframe\">\n",
       "  <thead>\n",
       "    <tr style=\"text-align: right;\">\n",
       "      <th></th>\n",
       "      <th>Survived</th>\n",
       "    </tr>\n",
       "    <tr>\n",
       "      <th>FareGroups</th>\n",
       "      <th></th>\n",
       "    </tr>\n",
       "  </thead>\n",
       "  <tbody>\n",
       "    <tr>\n",
       "      <th>(-0.001, 7.896]</th>\n",
       "      <td>0.197309</td>\n",
       "    </tr>\n",
       "    <tr>\n",
       "      <th>(7.896, 14.454]</th>\n",
       "      <td>0.303571</td>\n",
       "    </tr>\n",
       "    <tr>\n",
       "      <th>(14.454, 31.0]</th>\n",
       "      <td>0.454955</td>\n",
       "    </tr>\n",
       "    <tr>\n",
       "      <th>(31.0, 512.329]</th>\n",
       "      <td>0.577273</td>\n",
       "    </tr>\n",
       "  </tbody>\n",
       "</table>\n",
       "</div>"
      ],
      "text/plain": [
       "                 Survived\n",
       "FareGroups               \n",
       "(-0.001, 7.896]  0.197309\n",
       "(7.896, 14.454]  0.303571\n",
       "(14.454, 31.0]   0.454955\n",
       "(31.0, 512.329]  0.577273"
      ]
     },
     "execution_count": 16,
     "metadata": {},
     "output_type": "execute_result"
    }
   ],
   "source": [
    "train['FareGroups'] = pd.qcut(train['Fare'], 4)\n",
    "train[['FareGroups', 'Survived']].groupby('FareGroups').mean()"
   ]
  },
  {
   "cell_type": "markdown",
   "id": "e4555ed4",
   "metadata": {
    "papermill": {
     "duration": 0.075101,
     "end_time": "2022-04-17T21:23:10.198840",
     "exception": false,
     "start_time": "2022-04-17T21:23:10.123739",
     "status": "completed"
    },
    "tags": []
   },
   "source": [
    "**Looks like when *Fare* increases survival rate increases. Let's convert *Fare* to categorical variable.**"
   ]
  },
  {
   "cell_type": "code",
   "execution_count": 17,
   "id": "bb7ccde2",
   "metadata": {
    "execution": {
     "iopub.execute_input": "2022-04-17T21:23:10.352329Z",
     "iopub.status.busy": "2022-04-17T21:23:10.351774Z",
     "iopub.status.idle": "2022-04-17T21:23:10.360720Z",
     "shell.execute_reply": "2022-04-17T21:23:10.360154Z"
    },
    "papermill": {
     "duration": 0.08814,
     "end_time": "2022-04-17T21:23:10.362799",
     "exception": false,
     "start_time": "2022-04-17T21:23:10.274659",
     "status": "completed"
    },
    "tags": []
   },
   "outputs": [],
   "source": [
    "train.loc[train['Fare'] <= 7.896, 'Fare'] = 0\n",
    "train.loc[(train['Fare'] > 7.896) & (train['Fare'] <= 14.454), 'Fare'] = 1\n",
    "train.loc[(train['Fare'] > 14.454) & (train['Fare'] <= 31), 'Fare'] = 2\n",
    "train.loc[train['Fare'] > 31, 'Fare'] = 3"
   ]
  },
  {
   "cell_type": "code",
   "execution_count": 18,
   "id": "64d57719",
   "metadata": {
    "execution": {
     "iopub.execute_input": "2022-04-17T21:23:10.514709Z",
     "iopub.status.busy": "2022-04-17T21:23:10.514126Z",
     "iopub.status.idle": "2022-04-17T21:23:10.530207Z",
     "shell.execute_reply": "2022-04-17T21:23:10.529406Z"
    },
    "papermill": {
     "duration": 0.09459,
     "end_time": "2022-04-17T21:23:10.532287",
     "exception": false,
     "start_time": "2022-04-17T21:23:10.437697",
     "status": "completed"
    },
    "tags": []
   },
   "outputs": [
    {
     "data": {
      "text/html": [
       "<div>\n",
       "<style scoped>\n",
       "    .dataframe tbody tr th:only-of-type {\n",
       "        vertical-align: middle;\n",
       "    }\n",
       "\n",
       "    .dataframe tbody tr th {\n",
       "        vertical-align: top;\n",
       "    }\n",
       "\n",
       "    .dataframe thead th {\n",
       "        text-align: right;\n",
       "    }\n",
       "</style>\n",
       "<table border=\"1\" class=\"dataframe\">\n",
       "  <thead>\n",
       "    <tr style=\"text-align: right;\">\n",
       "      <th></th>\n",
       "      <th>Survived</th>\n",
       "      <th>Pclass</th>\n",
       "      <th>Name</th>\n",
       "      <th>Sex</th>\n",
       "      <th>Age</th>\n",
       "      <th>Fare</th>\n",
       "      <th>Embarked</th>\n",
       "      <th>WithSibSp</th>\n",
       "      <th>WithParch</th>\n",
       "    </tr>\n",
       "  </thead>\n",
       "  <tbody>\n",
       "    <tr>\n",
       "      <th>0</th>\n",
       "      <td>0</td>\n",
       "      <td>3</td>\n",
       "      <td>Braund, Mr. Owen Harris</td>\n",
       "      <td>0</td>\n",
       "      <td>22.0</td>\n",
       "      <td>0</td>\n",
       "      <td>S</td>\n",
       "      <td>1</td>\n",
       "      <td>0</td>\n",
       "    </tr>\n",
       "    <tr>\n",
       "      <th>1</th>\n",
       "      <td>1</td>\n",
       "      <td>1</td>\n",
       "      <td>Cumings, Mrs. John Bradley (Florence Briggs Th...</td>\n",
       "      <td>1</td>\n",
       "      <td>38.0</td>\n",
       "      <td>3</td>\n",
       "      <td>C</td>\n",
       "      <td>1</td>\n",
       "      <td>0</td>\n",
       "    </tr>\n",
       "    <tr>\n",
       "      <th>2</th>\n",
       "      <td>1</td>\n",
       "      <td>3</td>\n",
       "      <td>Heikkinen, Miss. Laina</td>\n",
       "      <td>1</td>\n",
       "      <td>26.0</td>\n",
       "      <td>1</td>\n",
       "      <td>S</td>\n",
       "      <td>0</td>\n",
       "      <td>0</td>\n",
       "    </tr>\n",
       "    <tr>\n",
       "      <th>3</th>\n",
       "      <td>1</td>\n",
       "      <td>1</td>\n",
       "      <td>Futrelle, Mrs. Jacques Heath (Lily May Peel)</td>\n",
       "      <td>1</td>\n",
       "      <td>35.0</td>\n",
       "      <td>3</td>\n",
       "      <td>S</td>\n",
       "      <td>1</td>\n",
       "      <td>0</td>\n",
       "    </tr>\n",
       "    <tr>\n",
       "      <th>4</th>\n",
       "      <td>0</td>\n",
       "      <td>3</td>\n",
       "      <td>Allen, Mr. William Henry</td>\n",
       "      <td>0</td>\n",
       "      <td>35.0</td>\n",
       "      <td>1</td>\n",
       "      <td>S</td>\n",
       "      <td>0</td>\n",
       "      <td>0</td>\n",
       "    </tr>\n",
       "  </tbody>\n",
       "</table>\n",
       "</div>"
      ],
      "text/plain": [
       "   Survived  Pclass                                               Name Sex  \\\n",
       "0         0       3                            Braund, Mr. Owen Harris   0   \n",
       "1         1       1  Cumings, Mrs. John Bradley (Florence Briggs Th...   1   \n",
       "2         1       3                             Heikkinen, Miss. Laina   1   \n",
       "3         1       1       Futrelle, Mrs. Jacques Heath (Lily May Peel)   1   \n",
       "4         0       3                           Allen, Mr. William Henry   0   \n",
       "\n",
       "    Age  Fare Embarked  WithSibSp  WithParch  \n",
       "0  22.0     0        S          1          0  \n",
       "1  38.0     3        C          1          0  \n",
       "2  26.0     1        S          0          0  \n",
       "3  35.0     3        S          1          0  \n",
       "4  35.0     1        S          0          0  "
      ]
     },
     "execution_count": 18,
     "metadata": {},
     "output_type": "execute_result"
    }
   ],
   "source": [
    "train = train.drop(['FareGroups'], axis=1)\n",
    "train['Fare'] = train['Fare'].astype(int)\n",
    "train.head()"
   ]
  },
  {
   "cell_type": "markdown",
   "id": "c8d993f7",
   "metadata": {
    "papermill": {
     "duration": 0.075556,
     "end_time": "2022-04-17T21:23:10.684409",
     "exception": false,
     "start_time": "2022-04-17T21:23:10.608853",
     "status": "completed"
    },
    "tags": []
   },
   "source": [
    "## Age"
   ]
  },
  {
   "cell_type": "markdown",
   "id": "8a6c3dea",
   "metadata": {
    "papermill": {
     "duration": 0.076351,
     "end_time": "2022-04-17T21:23:10.837922",
     "exception": false,
     "start_time": "2022-04-17T21:23:10.761571",
     "status": "completed"
    },
    "tags": []
   },
   "source": [
    "#### First extract honorifics from *Name* and use them to estimate missing values in *Age*"
   ]
  },
  {
   "cell_type": "markdown",
   "id": "c02c094f",
   "metadata": {
    "papermill": {
     "duration": 0.076832,
     "end_time": "2022-04-17T21:23:10.990407",
     "exception": false,
     "start_time": "2022-04-17T21:23:10.913575",
     "status": "completed"
    },
    "tags": []
   },
   "source": [
    "**Extract Honorifics and find mean of age in each Honorific group**"
   ]
  },
  {
   "cell_type": "code",
   "execution_count": 19,
   "id": "6106dd03",
   "metadata": {
    "execution": {
     "iopub.execute_input": "2022-04-17T21:23:11.143668Z",
     "iopub.status.busy": "2022-04-17T21:23:11.143080Z",
     "iopub.status.idle": "2022-04-17T21:23:11.156246Z",
     "shell.execute_reply": "2022-04-17T21:23:11.155304Z"
    },
    "papermill": {
     "duration": 0.092094,
     "end_time": "2022-04-17T21:23:11.158329",
     "exception": false,
     "start_time": "2022-04-17T21:23:11.066235",
     "status": "completed"
    },
    "tags": []
   },
   "outputs": [
    {
     "data": {
      "text/plain": [
       "{'Capt': 70,\n",
       " 'Col': 58,\n",
       " 'Countess': 33,\n",
       " 'Don': 40,\n",
       " 'Dr': 42,\n",
       " 'Jonkheer': 38,\n",
       " 'Lady': 48,\n",
       " 'Major': 48,\n",
       " 'Master': 4,\n",
       " 'Miss': 21,\n",
       " 'Mlle': 24,\n",
       " 'Mme': 24,\n",
       " 'Mr': 32,\n",
       " 'Mrs': 35,\n",
       " 'Ms': 28,\n",
       " 'Rev': 43,\n",
       " 'Sir': 49}"
      ]
     },
     "execution_count": 19,
     "metadata": {},
     "output_type": "execute_result"
    }
   ],
   "source": [
    "train['Honorific'] = train['Name'].str.extract(' (\\w+)\\.', expand=False)\n",
    "honorifics = train[['Honorific', 'Age']].groupby('Honorific').Age.mean().astype(int).to_dict()\n",
    "honorifics"
   ]
  },
  {
   "cell_type": "markdown",
   "id": "ec0b1fd5",
   "metadata": {
    "papermill": {
     "duration": 0.076279,
     "end_time": "2022-04-17T21:23:11.310628",
     "exception": false,
     "start_time": "2022-04-17T21:23:11.234349",
     "status": "completed"
    },
    "tags": []
   },
   "source": [
    "**Fill NaN ages with mean age of appropriate Hinorific group**"
   ]
  },
  {
   "cell_type": "code",
   "execution_count": 20,
   "id": "86d8eb01",
   "metadata": {
    "execution": {
     "iopub.execute_input": "2022-04-17T21:23:11.465319Z",
     "iopub.status.busy": "2022-04-17T21:23:11.464764Z",
     "iopub.status.idle": "2022-04-17T21:23:11.506431Z",
     "shell.execute_reply": "2022-04-17T21:23:11.505424Z"
    },
    "papermill": {
     "duration": 0.121955,
     "end_time": "2022-04-17T21:23:11.509456",
     "exception": false,
     "start_time": "2022-04-17T21:23:11.387501",
     "status": "completed"
    },
    "tags": []
   },
   "outputs": [
    {
     "name": "stderr",
     "output_type": "stream",
     "text": [
      "/opt/conda/lib/python3.7/site-packages/ipykernel_launcher.py:2: SettingWithCopyWarning: \n",
      "A value is trying to be set on a copy of a slice from a DataFrame\n",
      "\n",
      "See the caveats in the documentation: https://pandas.pydata.org/pandas-docs/stable/user_guide/indexing.html#returning-a-view-versus-a-copy\n",
      "  \n"
     ]
    }
   ],
   "source": [
    "for k in honorifics.keys():\n",
    "    train.Age[(train['Age'].isna())&(train['Honorific']==k)] = honorifics[k]"
   ]
  },
  {
   "cell_type": "markdown",
   "id": "6b925ff3",
   "metadata": {
    "papermill": {
     "duration": 0.07599,
     "end_time": "2022-04-17T21:23:11.663358",
     "exception": false,
     "start_time": "2022-04-17T21:23:11.587368",
     "status": "completed"
    },
    "tags": []
   },
   "source": [
    "**Drop *Name* and *Honorific***"
   ]
  },
  {
   "cell_type": "code",
   "execution_count": 21,
   "id": "bd0e8b4a",
   "metadata": {
    "execution": {
     "iopub.execute_input": "2022-04-17T21:23:11.819394Z",
     "iopub.status.busy": "2022-04-17T21:23:11.818798Z",
     "iopub.status.idle": "2022-04-17T21:23:11.834016Z",
     "shell.execute_reply": "2022-04-17T21:23:11.833136Z"
    },
    "papermill": {
     "duration": 0.095787,
     "end_time": "2022-04-17T21:23:11.836144",
     "exception": false,
     "start_time": "2022-04-17T21:23:11.740357",
     "status": "completed"
    },
    "tags": []
   },
   "outputs": [
    {
     "data": {
      "text/html": [
       "<div>\n",
       "<style scoped>\n",
       "    .dataframe tbody tr th:only-of-type {\n",
       "        vertical-align: middle;\n",
       "    }\n",
       "\n",
       "    .dataframe tbody tr th {\n",
       "        vertical-align: top;\n",
       "    }\n",
       "\n",
       "    .dataframe thead th {\n",
       "        text-align: right;\n",
       "    }\n",
       "</style>\n",
       "<table border=\"1\" class=\"dataframe\">\n",
       "  <thead>\n",
       "    <tr style=\"text-align: right;\">\n",
       "      <th></th>\n",
       "      <th>Survived</th>\n",
       "      <th>Pclass</th>\n",
       "      <th>Sex</th>\n",
       "      <th>Age</th>\n",
       "      <th>Fare</th>\n",
       "      <th>Embarked</th>\n",
       "      <th>WithSibSp</th>\n",
       "      <th>WithParch</th>\n",
       "    </tr>\n",
       "  </thead>\n",
       "  <tbody>\n",
       "    <tr>\n",
       "      <th>0</th>\n",
       "      <td>0</td>\n",
       "      <td>3</td>\n",
       "      <td>0</td>\n",
       "      <td>22.0</td>\n",
       "      <td>0</td>\n",
       "      <td>S</td>\n",
       "      <td>1</td>\n",
       "      <td>0</td>\n",
       "    </tr>\n",
       "    <tr>\n",
       "      <th>1</th>\n",
       "      <td>1</td>\n",
       "      <td>1</td>\n",
       "      <td>1</td>\n",
       "      <td>38.0</td>\n",
       "      <td>3</td>\n",
       "      <td>C</td>\n",
       "      <td>1</td>\n",
       "      <td>0</td>\n",
       "    </tr>\n",
       "    <tr>\n",
       "      <th>2</th>\n",
       "      <td>1</td>\n",
       "      <td>3</td>\n",
       "      <td>1</td>\n",
       "      <td>26.0</td>\n",
       "      <td>1</td>\n",
       "      <td>S</td>\n",
       "      <td>0</td>\n",
       "      <td>0</td>\n",
       "    </tr>\n",
       "    <tr>\n",
       "      <th>3</th>\n",
       "      <td>1</td>\n",
       "      <td>1</td>\n",
       "      <td>1</td>\n",
       "      <td>35.0</td>\n",
       "      <td>3</td>\n",
       "      <td>S</td>\n",
       "      <td>1</td>\n",
       "      <td>0</td>\n",
       "    </tr>\n",
       "    <tr>\n",
       "      <th>4</th>\n",
       "      <td>0</td>\n",
       "      <td>3</td>\n",
       "      <td>0</td>\n",
       "      <td>35.0</td>\n",
       "      <td>1</td>\n",
       "      <td>S</td>\n",
       "      <td>0</td>\n",
       "      <td>0</td>\n",
       "    </tr>\n",
       "  </tbody>\n",
       "</table>\n",
       "</div>"
      ],
      "text/plain": [
       "   Survived  Pclass Sex   Age  Fare Embarked  WithSibSp  WithParch\n",
       "0         0       3   0  22.0     0        S          1          0\n",
       "1         1       1   1  38.0     3        C          1          0\n",
       "2         1       3   1  26.0     1        S          0          0\n",
       "3         1       1   1  35.0     3        S          1          0\n",
       "4         0       3   0  35.0     1        S          0          0"
      ]
     },
     "execution_count": 21,
     "metadata": {},
     "output_type": "execute_result"
    }
   ],
   "source": [
    "train = train.drop(['Name', 'Honorific'], axis=1)\n",
    "train.head()"
   ]
  },
  {
   "cell_type": "markdown",
   "id": "fd777737",
   "metadata": {
    "papermill": {
     "duration": 0.078553,
     "end_time": "2022-04-17T21:23:11.993114",
     "exception": false,
     "start_time": "2022-04-17T21:23:11.914561",
     "status": "completed"
    },
    "tags": []
   },
   "source": [
    "**Create age groups**"
   ]
  },
  {
   "cell_type": "code",
   "execution_count": 22,
   "id": "34328586",
   "metadata": {
    "execution": {
     "iopub.execute_input": "2022-04-17T21:23:12.150880Z",
     "iopub.status.busy": "2022-04-17T21:23:12.150280Z",
     "iopub.status.idle": "2022-04-17T21:23:12.166172Z",
     "shell.execute_reply": "2022-04-17T21:23:12.165355Z"
    },
    "papermill": {
     "duration": 0.097144,
     "end_time": "2022-04-17T21:23:12.168123",
     "exception": false,
     "start_time": "2022-04-17T21:23:12.070979",
     "status": "completed"
    },
    "tags": []
   },
   "outputs": [
    {
     "data": {
      "text/html": [
       "<div>\n",
       "<style scoped>\n",
       "    .dataframe tbody tr th:only-of-type {\n",
       "        vertical-align: middle;\n",
       "    }\n",
       "\n",
       "    .dataframe tbody tr th {\n",
       "        vertical-align: top;\n",
       "    }\n",
       "\n",
       "    .dataframe thead th {\n",
       "        text-align: right;\n",
       "    }\n",
       "</style>\n",
       "<table border=\"1\" class=\"dataframe\">\n",
       "  <thead>\n",
       "    <tr style=\"text-align: right;\">\n",
       "      <th></th>\n",
       "      <th>Survived</th>\n",
       "    </tr>\n",
       "    <tr>\n",
       "      <th>AgeGroups</th>\n",
       "      <th></th>\n",
       "    </tr>\n",
       "  </thead>\n",
       "  <tbody>\n",
       "    <tr>\n",
       "      <th>(0.419, 20.0]</th>\n",
       "      <td>0.459016</td>\n",
       "    </tr>\n",
       "    <tr>\n",
       "      <th>(20.0, 26.0]</th>\n",
       "      <td>0.397727</td>\n",
       "    </tr>\n",
       "    <tr>\n",
       "      <th>(26.0, 32.0]</th>\n",
       "      <td>0.272358</td>\n",
       "    </tr>\n",
       "    <tr>\n",
       "      <th>(32.0, 38.0]</th>\n",
       "      <td>0.504673</td>\n",
       "    </tr>\n",
       "    <tr>\n",
       "      <th>(38.0, 80.0]</th>\n",
       "      <td>0.367232</td>\n",
       "    </tr>\n",
       "  </tbody>\n",
       "</table>\n",
       "</div>"
      ],
      "text/plain": [
       "               Survived\n",
       "AgeGroups              \n",
       "(0.419, 20.0]  0.459016\n",
       "(20.0, 26.0]   0.397727\n",
       "(26.0, 32.0]   0.272358\n",
       "(32.0, 38.0]   0.504673\n",
       "(38.0, 80.0]   0.367232"
      ]
     },
     "execution_count": 22,
     "metadata": {},
     "output_type": "execute_result"
    }
   ],
   "source": [
    "train['AgeGroups'] = pd.qcut(train['Age'], 5)\n",
    "train[['AgeGroups', 'Survived']].groupby('AgeGroups').mean()"
   ]
  },
  {
   "cell_type": "code",
   "execution_count": 23,
   "id": "a0abf853",
   "metadata": {
    "execution": {
     "iopub.execute_input": "2022-04-17T21:23:12.325007Z",
     "iopub.status.busy": "2022-04-17T21:23:12.324565Z",
     "iopub.status.idle": "2022-04-17T21:23:12.347740Z",
     "shell.execute_reply": "2022-04-17T21:23:12.346840Z"
    },
    "papermill": {
     "duration": 0.104296,
     "end_time": "2022-04-17T21:23:12.349808",
     "exception": false,
     "start_time": "2022-04-17T21:23:12.245512",
     "status": "completed"
    },
    "tags": []
   },
   "outputs": [
    {
     "data": {
      "text/html": [
       "<div>\n",
       "<style scoped>\n",
       "    .dataframe tbody tr th:only-of-type {\n",
       "        vertical-align: middle;\n",
       "    }\n",
       "\n",
       "    .dataframe tbody tr th {\n",
       "        vertical-align: top;\n",
       "    }\n",
       "\n",
       "    .dataframe thead th {\n",
       "        text-align: right;\n",
       "    }\n",
       "</style>\n",
       "<table border=\"1\" class=\"dataframe\">\n",
       "  <thead>\n",
       "    <tr style=\"text-align: right;\">\n",
       "      <th></th>\n",
       "      <th>Survived</th>\n",
       "      <th>Pclass</th>\n",
       "      <th>Sex</th>\n",
       "      <th>Age</th>\n",
       "      <th>Fare</th>\n",
       "      <th>Embarked</th>\n",
       "      <th>WithSibSp</th>\n",
       "      <th>WithParch</th>\n",
       "    </tr>\n",
       "  </thead>\n",
       "  <tbody>\n",
       "    <tr>\n",
       "      <th>0</th>\n",
       "      <td>0</td>\n",
       "      <td>3</td>\n",
       "      <td>0</td>\n",
       "      <td>1</td>\n",
       "      <td>0</td>\n",
       "      <td>S</td>\n",
       "      <td>1</td>\n",
       "      <td>0</td>\n",
       "    </tr>\n",
       "    <tr>\n",
       "      <th>1</th>\n",
       "      <td>1</td>\n",
       "      <td>1</td>\n",
       "      <td>1</td>\n",
       "      <td>3</td>\n",
       "      <td>3</td>\n",
       "      <td>C</td>\n",
       "      <td>1</td>\n",
       "      <td>0</td>\n",
       "    </tr>\n",
       "    <tr>\n",
       "      <th>2</th>\n",
       "      <td>1</td>\n",
       "      <td>3</td>\n",
       "      <td>1</td>\n",
       "      <td>1</td>\n",
       "      <td>1</td>\n",
       "      <td>S</td>\n",
       "      <td>0</td>\n",
       "      <td>0</td>\n",
       "    </tr>\n",
       "    <tr>\n",
       "      <th>3</th>\n",
       "      <td>1</td>\n",
       "      <td>1</td>\n",
       "      <td>1</td>\n",
       "      <td>3</td>\n",
       "      <td>3</td>\n",
       "      <td>S</td>\n",
       "      <td>1</td>\n",
       "      <td>0</td>\n",
       "    </tr>\n",
       "    <tr>\n",
       "      <th>4</th>\n",
       "      <td>0</td>\n",
       "      <td>3</td>\n",
       "      <td>0</td>\n",
       "      <td>3</td>\n",
       "      <td>1</td>\n",
       "      <td>S</td>\n",
       "      <td>0</td>\n",
       "      <td>0</td>\n",
       "    </tr>\n",
       "  </tbody>\n",
       "</table>\n",
       "</div>"
      ],
      "text/plain": [
       "   Survived  Pclass Sex  Age  Fare Embarked  WithSibSp  WithParch\n",
       "0         0       3   0    1     0        S          1          0\n",
       "1         1       1   1    3     3        C          1          0\n",
       "2         1       3   1    1     1        S          0          0\n",
       "3         1       1   1    3     3        S          1          0\n",
       "4         0       3   0    3     1        S          0          0"
      ]
     },
     "execution_count": 23,
     "metadata": {},
     "output_type": "execute_result"
    }
   ],
   "source": [
    "train.loc[train['Age'] <= 20.0, 'Age'] = 0\n",
    "train.loc[(train['Age'] > 20.0) & (train['Age'] <= 26.0), 'Age'] = 1\n",
    "train.loc[(train['Age'] > 26.0) & (train['Age'] <= 32.0), 'Age'] = 2\n",
    "train.loc[(train['Age'] > 32.0) & (train['Age'] <= 38.0), 'Age'] = 3\n",
    "train.loc[train['Age'] > 38.0, 'Age'] = 4\n",
    "train['Age'] = train['Age'].astype(int)\n",
    "train=train.drop('AgeGroups', axis=1)\n",
    "train.head()"
   ]
  },
  {
   "cell_type": "markdown",
   "id": "66774912",
   "metadata": {
    "papermill": {
     "duration": 0.077422,
     "end_time": "2022-04-17T21:23:12.506118",
     "exception": false,
     "start_time": "2022-04-17T21:23:12.428696",
     "status": "completed"
    },
    "tags": []
   },
   "source": [
    "## Embarked"
   ]
  },
  {
   "cell_type": "code",
   "execution_count": 24,
   "id": "bfa6c70f",
   "metadata": {
    "execution": {
     "iopub.execute_input": "2022-04-17T21:23:12.665987Z",
     "iopub.status.busy": "2022-04-17T21:23:12.665535Z",
     "iopub.status.idle": "2022-04-17T21:23:12.675786Z",
     "shell.execute_reply": "2022-04-17T21:23:12.675267Z"
    },
    "papermill": {
     "duration": 0.093567,
     "end_time": "2022-04-17T21:23:12.677816",
     "exception": false,
     "start_time": "2022-04-17T21:23:12.584249",
     "status": "completed"
    },
    "tags": []
   },
   "outputs": [
    {
     "data": {
      "text/html": [
       "<div>\n",
       "<style scoped>\n",
       "    .dataframe tbody tr th:only-of-type {\n",
       "        vertical-align: middle;\n",
       "    }\n",
       "\n",
       "    .dataframe tbody tr th {\n",
       "        vertical-align: top;\n",
       "    }\n",
       "\n",
       "    .dataframe thead th {\n",
       "        text-align: right;\n",
       "    }\n",
       "</style>\n",
       "<table border=\"1\" class=\"dataframe\">\n",
       "  <thead>\n",
       "    <tr style=\"text-align: right;\">\n",
       "      <th></th>\n",
       "      <th>Survived</th>\n",
       "    </tr>\n",
       "    <tr>\n",
       "      <th>Embarked</th>\n",
       "      <th></th>\n",
       "    </tr>\n",
       "  </thead>\n",
       "  <tbody>\n",
       "    <tr>\n",
       "      <th>C</th>\n",
       "      <td>0.553571</td>\n",
       "    </tr>\n",
       "    <tr>\n",
       "      <th>Q</th>\n",
       "      <td>0.389610</td>\n",
       "    </tr>\n",
       "    <tr>\n",
       "      <th>S</th>\n",
       "      <td>0.336957</td>\n",
       "    </tr>\n",
       "  </tbody>\n",
       "</table>\n",
       "</div>"
      ],
      "text/plain": [
       "          Survived\n",
       "Embarked          \n",
       "C         0.553571\n",
       "Q         0.389610\n",
       "S         0.336957"
      ]
     },
     "execution_count": 24,
     "metadata": {},
     "output_type": "execute_result"
    }
   ],
   "source": [
    "train[['Embarked', 'Survived']].groupby('Embarked').mean()"
   ]
  },
  {
   "cell_type": "markdown",
   "id": "f9f6713d",
   "metadata": {
    "papermill": {
     "duration": 0.080189,
     "end_time": "2022-04-17T21:23:12.836257",
     "exception": false,
     "start_time": "2022-04-17T21:23:12.756068",
     "status": "completed"
    },
    "tags": []
   },
   "source": [
    "**Among embarkation ports Cherbourg has greatest survival rate, followed by Queenstown and Southampton**"
   ]
  },
  {
   "cell_type": "markdown",
   "id": "a2cac512",
   "metadata": {
    "papermill": {
     "duration": 0.079208,
     "end_time": "2022-04-17T21:23:13.007095",
     "exception": false,
     "start_time": "2022-04-17T21:23:12.927887",
     "status": "completed"
    },
    "tags": []
   },
   "source": [
    "**Convert port abbreviations into numeric values -> C:0, Q:1, S:2**"
   ]
  },
  {
   "cell_type": "code",
   "execution_count": 25,
   "id": "46210f52",
   "metadata": {
    "execution": {
     "iopub.execute_input": "2022-04-17T21:23:13.169148Z",
     "iopub.status.busy": "2022-04-17T21:23:13.168647Z",
     "iopub.status.idle": "2022-04-17T21:23:13.183090Z",
     "shell.execute_reply": "2022-04-17T21:23:13.182509Z"
    },
    "papermill": {
     "duration": 0.097354,
     "end_time": "2022-04-17T21:23:13.184886",
     "exception": false,
     "start_time": "2022-04-17T21:23:13.087532",
     "status": "completed"
    },
    "tags": []
   },
   "outputs": [
    {
     "data": {
      "text/html": [
       "<div>\n",
       "<style scoped>\n",
       "    .dataframe tbody tr th:only-of-type {\n",
       "        vertical-align: middle;\n",
       "    }\n",
       "\n",
       "    .dataframe tbody tr th {\n",
       "        vertical-align: top;\n",
       "    }\n",
       "\n",
       "    .dataframe thead th {\n",
       "        text-align: right;\n",
       "    }\n",
       "</style>\n",
       "<table border=\"1\" class=\"dataframe\">\n",
       "  <thead>\n",
       "    <tr style=\"text-align: right;\">\n",
       "      <th></th>\n",
       "      <th>Survived</th>\n",
       "      <th>Pclass</th>\n",
       "      <th>Sex</th>\n",
       "      <th>Age</th>\n",
       "      <th>Fare</th>\n",
       "      <th>Embarked</th>\n",
       "      <th>WithSibSp</th>\n",
       "      <th>WithParch</th>\n",
       "    </tr>\n",
       "  </thead>\n",
       "  <tbody>\n",
       "    <tr>\n",
       "      <th>0</th>\n",
       "      <td>0</td>\n",
       "      <td>3</td>\n",
       "      <td>0</td>\n",
       "      <td>1</td>\n",
       "      <td>0</td>\n",
       "      <td>2</td>\n",
       "      <td>1</td>\n",
       "      <td>0</td>\n",
       "    </tr>\n",
       "    <tr>\n",
       "      <th>1</th>\n",
       "      <td>1</td>\n",
       "      <td>1</td>\n",
       "      <td>1</td>\n",
       "      <td>3</td>\n",
       "      <td>3</td>\n",
       "      <td>0</td>\n",
       "      <td>1</td>\n",
       "      <td>0</td>\n",
       "    </tr>\n",
       "    <tr>\n",
       "      <th>2</th>\n",
       "      <td>1</td>\n",
       "      <td>3</td>\n",
       "      <td>1</td>\n",
       "      <td>1</td>\n",
       "      <td>1</td>\n",
       "      <td>2</td>\n",
       "      <td>0</td>\n",
       "      <td>0</td>\n",
       "    </tr>\n",
       "    <tr>\n",
       "      <th>3</th>\n",
       "      <td>1</td>\n",
       "      <td>1</td>\n",
       "      <td>1</td>\n",
       "      <td>3</td>\n",
       "      <td>3</td>\n",
       "      <td>2</td>\n",
       "      <td>1</td>\n",
       "      <td>0</td>\n",
       "    </tr>\n",
       "    <tr>\n",
       "      <th>4</th>\n",
       "      <td>0</td>\n",
       "      <td>3</td>\n",
       "      <td>0</td>\n",
       "      <td>3</td>\n",
       "      <td>1</td>\n",
       "      <td>2</td>\n",
       "      <td>0</td>\n",
       "      <td>0</td>\n",
       "    </tr>\n",
       "  </tbody>\n",
       "</table>\n",
       "</div>"
      ],
      "text/plain": [
       "   Survived  Pclass Sex  Age  Fare Embarked  WithSibSp  WithParch\n",
       "0         0       3   0    1     0        2          1          0\n",
       "1         1       1   1    3     3        0          1          0\n",
       "2         1       3   1    1     1        2          0          0\n",
       "3         1       1   1    3     3        2          1          0\n",
       "4         0       3   0    3     1        2          0          0"
      ]
     },
     "execution_count": 25,
     "metadata": {},
     "output_type": "execute_result"
    }
   ],
   "source": [
    "train.loc[train['Embarked']=='C', 'Embarked'] = 0\n",
    "train.loc[train['Embarked']=='Q', 'Embarked'] = 1\n",
    "train.loc[train['Embarked']=='S', 'Embarked'] = 2\n",
    "train.head(5)"
   ]
  },
  {
   "cell_type": "markdown",
   "id": "dcd5a74f",
   "metadata": {
    "papermill": {
     "duration": 0.079578,
     "end_time": "2022-04-17T21:23:13.345663",
     "exception": false,
     "start_time": "2022-04-17T21:23:13.266085",
     "status": "completed"
    },
    "tags": []
   },
   "source": [
    "# **Now, let's take care of test data**"
   ]
  },
  {
   "cell_type": "code",
   "execution_count": 26,
   "id": "f142f4af",
   "metadata": {
    "execution": {
     "iopub.execute_input": "2022-04-17T21:23:13.508947Z",
     "iopub.status.busy": "2022-04-17T21:23:13.508488Z",
     "iopub.status.idle": "2022-04-17T21:23:13.515880Z",
     "shell.execute_reply": "2022-04-17T21:23:13.515201Z"
    },
    "papermill": {
     "duration": 0.089593,
     "end_time": "2022-04-17T21:23:13.517683",
     "exception": false,
     "start_time": "2022-04-17T21:23:13.428090",
     "status": "completed"
    },
    "tags": []
   },
   "outputs": [
    {
     "data": {
      "text/plain": [
       "PassengerId      0\n",
       "Pclass           0\n",
       "Name             0\n",
       "Sex              0\n",
       "Age             86\n",
       "SibSp            0\n",
       "Parch            0\n",
       "Ticket           0\n",
       "Fare             1\n",
       "Cabin          327\n",
       "Embarked         0\n",
       "dtype: int64"
      ]
     },
     "execution_count": 26,
     "metadata": {},
     "output_type": "execute_result"
    }
   ],
   "source": [
    "test.isna().sum()"
   ]
  },
  {
   "cell_type": "markdown",
   "id": "7acc5f0b",
   "metadata": {
    "papermill": {
     "duration": 0.079017,
     "end_time": "2022-04-17T21:23:13.676562",
     "exception": false,
     "start_time": "2022-04-17T21:23:13.597545",
     "status": "completed"
    },
    "tags": []
   },
   "source": [
    "### Drop *Ticket* and *Cabin*"
   ]
  },
  {
   "cell_type": "code",
   "execution_count": 27,
   "id": "d0217a10",
   "metadata": {
    "execution": {
     "iopub.execute_input": "2022-04-17T21:23:13.837744Z",
     "iopub.status.busy": "2022-04-17T21:23:13.837234Z",
     "iopub.status.idle": "2022-04-17T21:23:13.841831Z",
     "shell.execute_reply": "2022-04-17T21:23:13.841271Z"
    },
    "papermill": {
     "duration": 0.087812,
     "end_time": "2022-04-17T21:23:13.843746",
     "exception": false,
     "start_time": "2022-04-17T21:23:13.755934",
     "status": "completed"
    },
    "tags": []
   },
   "outputs": [],
   "source": [
    "test = test.drop(['Ticket','Cabin'], axis=1)"
   ]
  },
  {
   "cell_type": "markdown",
   "id": "ac1e4fe1",
   "metadata": {
    "papermill": {
     "duration": 0.078651,
     "end_time": "2022-04-17T21:23:14.002244",
     "exception": false,
     "start_time": "2022-04-17T21:23:13.923593",
     "status": "completed"
    },
    "tags": []
   },
   "source": [
    "### Modify *Sex* -> 'male': 0, 'female': 1"
   ]
  },
  {
   "cell_type": "code",
   "execution_count": 28,
   "id": "2105a433",
   "metadata": {
    "execution": {
     "iopub.execute_input": "2022-04-17T21:23:14.166058Z",
     "iopub.status.busy": "2022-04-17T21:23:14.165485Z",
     "iopub.status.idle": "2022-04-17T21:23:14.171809Z",
     "shell.execute_reply": "2022-04-17T21:23:14.171264Z"
    },
    "papermill": {
     "duration": 0.090216,
     "end_time": "2022-04-17T21:23:14.173670",
     "exception": false,
     "start_time": "2022-04-17T21:23:14.083454",
     "status": "completed"
    },
    "tags": []
   },
   "outputs": [],
   "source": [
    "test.loc[test['Sex']=='male','Sex']=0\n",
    "test.loc[test['Sex']=='female','Sex']=1"
   ]
  },
  {
   "cell_type": "markdown",
   "id": "4bfa488b",
   "metadata": {
    "papermill": {
     "duration": 0.079232,
     "end_time": "2022-04-17T21:23:14.332389",
     "exception": false,
     "start_time": "2022-04-17T21:23:14.253157",
     "status": "completed"
    },
    "tags": []
   },
   "source": [
    "### Modify *Age*"
   ]
  },
  {
   "cell_type": "code",
   "execution_count": 29,
   "id": "a4206fc4",
   "metadata": {
    "execution": {
     "iopub.execute_input": "2022-04-17T21:23:14.493713Z",
     "iopub.status.busy": "2022-04-17T21:23:14.493175Z",
     "iopub.status.idle": "2022-04-17T21:23:14.506148Z",
     "shell.execute_reply": "2022-04-17T21:23:14.505570Z"
    },
    "papermill": {
     "duration": 0.095259,
     "end_time": "2022-04-17T21:23:14.508019",
     "exception": false,
     "start_time": "2022-04-17T21:23:14.412760",
     "status": "completed"
    },
    "tags": []
   },
   "outputs": [
    {
     "data": {
      "text/html": [
       "<div>\n",
       "<style scoped>\n",
       "    .dataframe tbody tr th:only-of-type {\n",
       "        vertical-align: middle;\n",
       "    }\n",
       "\n",
       "    .dataframe tbody tr th {\n",
       "        vertical-align: top;\n",
       "    }\n",
       "\n",
       "    .dataframe thead th {\n",
       "        text-align: right;\n",
       "    }\n",
       "</style>\n",
       "<table border=\"1\" class=\"dataframe\">\n",
       "  <thead>\n",
       "    <tr style=\"text-align: right;\">\n",
       "      <th></th>\n",
       "      <th>Age</th>\n",
       "    </tr>\n",
       "    <tr>\n",
       "      <th>Honorific</th>\n",
       "      <th></th>\n",
       "    </tr>\n",
       "  </thead>\n",
       "  <tbody>\n",
       "    <tr>\n",
       "      <th>Col</th>\n",
       "      <td>50.000000</td>\n",
       "    </tr>\n",
       "    <tr>\n",
       "      <th>Dona</th>\n",
       "      <td>39.000000</td>\n",
       "    </tr>\n",
       "    <tr>\n",
       "      <th>Dr</th>\n",
       "      <td>53.000000</td>\n",
       "    </tr>\n",
       "    <tr>\n",
       "      <th>Master</th>\n",
       "      <td>7.406471</td>\n",
       "    </tr>\n",
       "    <tr>\n",
       "      <th>Miss</th>\n",
       "      <td>21.774844</td>\n",
       "    </tr>\n",
       "    <tr>\n",
       "      <th>Mr</th>\n",
       "      <td>32.000000</td>\n",
       "    </tr>\n",
       "    <tr>\n",
       "      <th>Mrs</th>\n",
       "      <td>38.903226</td>\n",
       "    </tr>\n",
       "    <tr>\n",
       "      <th>Ms</th>\n",
       "      <td>NaN</td>\n",
       "    </tr>\n",
       "    <tr>\n",
       "      <th>Rev</th>\n",
       "      <td>35.500000</td>\n",
       "    </tr>\n",
       "  </tbody>\n",
       "</table>\n",
       "</div>"
      ],
      "text/plain": [
       "                 Age\n",
       "Honorific           \n",
       "Col        50.000000\n",
       "Dona       39.000000\n",
       "Dr         53.000000\n",
       "Master      7.406471\n",
       "Miss       21.774844\n",
       "Mr         32.000000\n",
       "Mrs        38.903226\n",
       "Ms               NaN\n",
       "Rev        35.500000"
      ]
     },
     "execution_count": 29,
     "metadata": {},
     "output_type": "execute_result"
    }
   ],
   "source": [
    "test['Honorific'] = test['Name'].str.extract(' (\\w+)\\.', expand=False)\n",
    "test[['Honorific', 'Age']].groupby('Honorific').mean()"
   ]
  },
  {
   "cell_type": "markdown",
   "id": "8ffe4d1e",
   "metadata": {
    "papermill": {
     "duration": 0.084833,
     "end_time": "2022-04-17T21:23:14.691661",
     "exception": false,
     "start_time": "2022-04-17T21:23:14.606828",
     "status": "completed"
    },
    "tags": []
   },
   "source": [
    "**There is only one *Ms* and I'll estimate it based on class and gender**"
   ]
  },
  {
   "cell_type": "code",
   "execution_count": 30,
   "id": "8609b22d",
   "metadata": {
    "execution": {
     "iopub.execute_input": "2022-04-17T21:23:14.873808Z",
     "iopub.status.busy": "2022-04-17T21:23:14.873413Z",
     "iopub.status.idle": "2022-04-17T21:23:14.893929Z",
     "shell.execute_reply": "2022-04-17T21:23:14.892944Z"
    },
    "papermill": {
     "duration": 0.115856,
     "end_time": "2022-04-17T21:23:14.896494",
     "exception": false,
     "start_time": "2022-04-17T21:23:14.780638",
     "status": "completed"
    },
    "tags": []
   },
   "outputs": [
    {
     "data": {
      "text/html": [
       "<div>\n",
       "<style scoped>\n",
       "    .dataframe tbody tr th:only-of-type {\n",
       "        vertical-align: middle;\n",
       "    }\n",
       "\n",
       "    .dataframe tbody tr th {\n",
       "        vertical-align: top;\n",
       "    }\n",
       "\n",
       "    .dataframe thead th {\n",
       "        text-align: right;\n",
       "    }\n",
       "</style>\n",
       "<table border=\"1\" class=\"dataframe\">\n",
       "  <thead>\n",
       "    <tr style=\"text-align: right;\">\n",
       "      <th></th>\n",
       "      <th>PassengerId</th>\n",
       "      <th>Pclass</th>\n",
       "      <th>Name</th>\n",
       "      <th>Sex</th>\n",
       "      <th>Age</th>\n",
       "      <th>SibSp</th>\n",
       "      <th>Parch</th>\n",
       "      <th>Fare</th>\n",
       "      <th>Embarked</th>\n",
       "      <th>Honorific</th>\n",
       "    </tr>\n",
       "  </thead>\n",
       "  <tbody>\n",
       "    <tr>\n",
       "      <th>88</th>\n",
       "      <td>980</td>\n",
       "      <td>3</td>\n",
       "      <td>O'Donoghue, Ms. Bridget</td>\n",
       "      <td>1</td>\n",
       "      <td>NaN</td>\n",
       "      <td>0</td>\n",
       "      <td>0</td>\n",
       "      <td>7.75</td>\n",
       "      <td>Q</td>\n",
       "      <td>Ms</td>\n",
       "    </tr>\n",
       "  </tbody>\n",
       "</table>\n",
       "</div>"
      ],
      "text/plain": [
       "    PassengerId  Pclass                     Name Sex  Age  SibSp  Parch  Fare  \\\n",
       "88          980       3  O'Donoghue, Ms. Bridget   1  NaN      0      0  7.75   \n",
       "\n",
       "   Embarked Honorific  \n",
       "88        Q        Ms  "
      ]
     },
     "execution_count": 30,
     "metadata": {},
     "output_type": "execute_result"
    }
   ],
   "source": [
    "test[test['Honorific']=='Ms']"
   ]
  },
  {
   "cell_type": "code",
   "execution_count": 31,
   "id": "5362dcf9",
   "metadata": {
    "execution": {
     "iopub.execute_input": "2022-04-17T21:23:15.067581Z",
     "iopub.status.busy": "2022-04-17T21:23:15.066794Z",
     "iopub.status.idle": "2022-04-17T21:23:15.080699Z",
     "shell.execute_reply": "2022-04-17T21:23:15.079842Z"
    },
    "papermill": {
     "duration": 0.09845,
     "end_time": "2022-04-17T21:23:15.082766",
     "exception": false,
     "start_time": "2022-04-17T21:23:14.984316",
     "status": "completed"
    },
    "tags": []
   },
   "outputs": [
    {
     "data": {
      "text/html": [
       "<div>\n",
       "<style scoped>\n",
       "    .dataframe tbody tr th:only-of-type {\n",
       "        vertical-align: middle;\n",
       "    }\n",
       "\n",
       "    .dataframe tbody tr th {\n",
       "        vertical-align: top;\n",
       "    }\n",
       "\n",
       "    .dataframe thead th {\n",
       "        text-align: right;\n",
       "    }\n",
       "</style>\n",
       "<table border=\"1\" class=\"dataframe\">\n",
       "  <thead>\n",
       "    <tr style=\"text-align: right;\">\n",
       "      <th></th>\n",
       "      <th></th>\n",
       "      <th>Age</th>\n",
       "    </tr>\n",
       "    <tr>\n",
       "      <th>Sex</th>\n",
       "      <th>Pclass</th>\n",
       "      <th></th>\n",
       "    </tr>\n",
       "  </thead>\n",
       "  <tbody>\n",
       "    <tr>\n",
       "      <th rowspan=\"3\" valign=\"top\">0</th>\n",
       "      <th>1</th>\n",
       "      <td>40.520000</td>\n",
       "    </tr>\n",
       "    <tr>\n",
       "      <th>2</th>\n",
       "      <td>30.940678</td>\n",
       "    </tr>\n",
       "    <tr>\n",
       "      <th>3</th>\n",
       "      <td>24.525104</td>\n",
       "    </tr>\n",
       "    <tr>\n",
       "      <th rowspan=\"3\" valign=\"top\">1</th>\n",
       "      <th>1</th>\n",
       "      <td>41.333333</td>\n",
       "    </tr>\n",
       "    <tr>\n",
       "      <th>2</th>\n",
       "      <td>24.376552</td>\n",
       "    </tr>\n",
       "    <tr>\n",
       "      <th>3</th>\n",
       "      <td>23.073400</td>\n",
       "    </tr>\n",
       "  </tbody>\n",
       "</table>\n",
       "</div>"
      ],
      "text/plain": [
       "                  Age\n",
       "Sex Pclass           \n",
       "0   1       40.520000\n",
       "    2       30.940678\n",
       "    3       24.525104\n",
       "1   1       41.333333\n",
       "    2       24.376552\n",
       "    3       23.073400"
      ]
     },
     "execution_count": 31,
     "metadata": {},
     "output_type": "execute_result"
    }
   ],
   "source": [
    "test[['Pclass', 'Sex', 'Age']].groupby(['Sex', 'Pclass']).mean()"
   ]
  },
  {
   "cell_type": "code",
   "execution_count": 32,
   "id": "543bce1d",
   "metadata": {
    "execution": {
     "iopub.execute_input": "2022-04-17T21:23:15.248732Z",
     "iopub.status.busy": "2022-04-17T21:23:15.248143Z",
     "iopub.status.idle": "2022-04-17T21:23:15.253544Z",
     "shell.execute_reply": "2022-04-17T21:23:15.252893Z"
    },
    "papermill": {
     "duration": 0.090952,
     "end_time": "2022-04-17T21:23:15.255523",
     "exception": false,
     "start_time": "2022-04-17T21:23:15.164571",
     "status": "completed"
    },
    "tags": []
   },
   "outputs": [],
   "source": [
    "test.loc[test['Honorific']=='Ms', 'Age'] = 23.0"
   ]
  },
  {
   "cell_type": "code",
   "execution_count": 33,
   "id": "8032f371",
   "metadata": {
    "execution": {
     "iopub.execute_input": "2022-04-17T21:23:15.423931Z",
     "iopub.status.busy": "2022-04-17T21:23:15.423378Z",
     "iopub.status.idle": "2022-04-17T21:23:15.458046Z",
     "shell.execute_reply": "2022-04-17T21:23:15.457188Z"
    },
    "papermill": {
     "duration": 0.123546,
     "end_time": "2022-04-17T21:23:15.460194",
     "exception": false,
     "start_time": "2022-04-17T21:23:15.336648",
     "status": "completed"
    },
    "tags": []
   },
   "outputs": [
    {
     "name": "stderr",
     "output_type": "stream",
     "text": [
      "/opt/conda/lib/python3.7/site-packages/ipykernel_launcher.py:6: SettingWithCopyWarning: \n",
      "A value is trying to be set on a copy of a slice from a DataFrame\n",
      "\n",
      "See the caveats in the documentation: https://pandas.pydata.org/pandas-docs/stable/user_guide/indexing.html#returning-a-view-versus-a-copy\n",
      "  \n"
     ]
    }
   ],
   "source": [
    "#Extract Honorifics and find mean of age in each Honorific group\n",
    "honorifics = test[['Honorific', 'Age']].groupby('Honorific').Age.mean().astype(int).to_dict()\n",
    "\n",
    "# #Fill NaN ages with mean age of appropriate Hinorific group\n",
    "for k in honorifics.keys():\n",
    "    test.Age[(test['Age'].isna())&(test['Honorific']==k)] = honorifics[k]\n",
    "    \n",
    "# #Drop Name and Honorific\n",
    "test = test.drop(['Name', 'Honorific'], axis=1)\n",
    "\n",
    "#Turn Age into numeric categories\n",
    "test.loc[test['Age'] <= 20.0, 'Age'] = 0\n",
    "test.loc[(test['Age'] > 20.0) & (test['Age'] <= 26.0), 'Age'] = 1\n",
    "test.loc[(test['Age'] > 26.0) & (test['Age'] <= 32.0), 'Age'] = 2\n",
    "test.loc[(test['Age'] > 32.0) & (test['Age'] <= 38.0), 'Age'] = 3\n",
    "test.loc[test['Age'] > 38.0, 'Age'] = 4\n",
    "test['Age'] = test['Age'].astype(int)\n"
   ]
  },
  {
   "cell_type": "code",
   "execution_count": 34,
   "id": "0cdd7990",
   "metadata": {
    "execution": {
     "iopub.execute_input": "2022-04-17T21:23:15.623798Z",
     "iopub.status.busy": "2022-04-17T21:23:15.623515Z",
     "iopub.status.idle": "2022-04-17T21:23:15.629396Z",
     "shell.execute_reply": "2022-04-17T21:23:15.628552Z"
    },
    "papermill": {
     "duration": 0.089951,
     "end_time": "2022-04-17T21:23:15.631352",
     "exception": false,
     "start_time": "2022-04-17T21:23:15.541401",
     "status": "completed"
    },
    "tags": []
   },
   "outputs": [
    {
     "data": {
      "text/plain": [
       "{'Col': 50,\n",
       " 'Dona': 39,\n",
       " 'Dr': 53,\n",
       " 'Master': 7,\n",
       " 'Miss': 21,\n",
       " 'Mr': 32,\n",
       " 'Mrs': 38,\n",
       " 'Ms': 23,\n",
       " 'Rev': 35}"
      ]
     },
     "execution_count": 34,
     "metadata": {},
     "output_type": "execute_result"
    }
   ],
   "source": [
    "honorifics"
   ]
  },
  {
   "cell_type": "markdown",
   "id": "10cc5ea7",
   "metadata": {
    "papermill": {
     "duration": 0.081478,
     "end_time": "2022-04-17T21:23:15.794825",
     "exception": false,
     "start_time": "2022-04-17T21:23:15.713347",
     "status": "completed"
    },
    "tags": []
   },
   "source": [
    "### Change *SibSp* feature: 0 if without SibSp, 1 if with SibSp is 1 or more."
   ]
  },
  {
   "cell_type": "code",
   "execution_count": 35,
   "id": "22bcba94",
   "metadata": {
    "execution": {
     "iopub.execute_input": "2022-04-17T21:23:15.961395Z",
     "iopub.status.busy": "2022-04-17T21:23:15.960776Z",
     "iopub.status.idle": "2022-04-17T21:23:15.969094Z",
     "shell.execute_reply": "2022-04-17T21:23:15.968448Z"
    },
    "papermill": {
     "duration": 0.094263,
     "end_time": "2022-04-17T21:23:15.971076",
     "exception": false,
     "start_time": "2022-04-17T21:23:15.876813",
     "status": "completed"
    },
    "tags": []
   },
   "outputs": [],
   "source": [
    "test.loc[test['SibSp']==0,'WithSibSp'] = 0\n",
    "test.loc[test['SibSp']>0,'WithSibSp'] = 1\n",
    "test['WithSibSp']=test['WithSibSp'].astype(int)\n",
    "\n",
    "#drop SibSp\n",
    "test = test.drop('SibSp', axis=1)"
   ]
  },
  {
   "cell_type": "markdown",
   "id": "9b3bba02",
   "metadata": {
    "papermill": {
     "duration": 0.081174,
     "end_time": "2022-04-17T21:23:16.133563",
     "exception": false,
     "start_time": "2022-04-17T21:23:16.052389",
     "status": "completed"
    },
    "tags": []
   },
   "source": [
    "### Change *Parch* feature: 0 if without *Parch*, 1 if with *Parch* is 1 or more.\n"
   ]
  },
  {
   "cell_type": "code",
   "execution_count": 36,
   "id": "651a71cb",
   "metadata": {
    "execution": {
     "iopub.execute_input": "2022-04-17T21:23:16.298462Z",
     "iopub.status.busy": "2022-04-17T21:23:16.297893Z",
     "iopub.status.idle": "2022-04-17T21:23:16.306769Z",
     "shell.execute_reply": "2022-04-17T21:23:16.306195Z"
    },
    "papermill": {
     "duration": 0.093475,
     "end_time": "2022-04-17T21:23:16.308896",
     "exception": false,
     "start_time": "2022-04-17T21:23:16.215421",
     "status": "completed"
    },
    "tags": []
   },
   "outputs": [],
   "source": [
    "test.loc[test['Parch']==0,'WithParch'] = 0\n",
    "test.loc[test['Parch']>0,'WithParch'] = 1\n",
    "test['WithParch']=test['WithParch'].astype(int)\n",
    "\n",
    "#drop Parch\n",
    "test = test.drop('Parch', axis=1)"
   ]
  },
  {
   "cell_type": "markdown",
   "id": "96184644",
   "metadata": {
    "papermill": {
     "duration": 0.081891,
     "end_time": "2022-04-17T21:23:16.473298",
     "exception": false,
     "start_time": "2022-04-17T21:23:16.391407",
     "status": "completed"
    },
    "tags": []
   },
   "source": [
    "### Modify *Fare*"
   ]
  },
  {
   "cell_type": "code",
   "execution_count": 37,
   "id": "86b96d72",
   "metadata": {
    "execution": {
     "iopub.execute_input": "2022-04-17T21:23:16.638505Z",
     "iopub.status.busy": "2022-04-17T21:23:16.638250Z",
     "iopub.status.idle": "2022-04-17T21:23:16.651106Z",
     "shell.execute_reply": "2022-04-17T21:23:16.650283Z"
    },
    "papermill": {
     "duration": 0.097992,
     "end_time": "2022-04-17T21:23:16.653061",
     "exception": false,
     "start_time": "2022-04-17T21:23:16.555069",
     "status": "completed"
    },
    "tags": []
   },
   "outputs": [
    {
     "data": {
      "text/html": [
       "<div>\n",
       "<style scoped>\n",
       "    .dataframe tbody tr th:only-of-type {\n",
       "        vertical-align: middle;\n",
       "    }\n",
       "\n",
       "    .dataframe tbody tr th {\n",
       "        vertical-align: top;\n",
       "    }\n",
       "\n",
       "    .dataframe thead th {\n",
       "        text-align: right;\n",
       "    }\n",
       "</style>\n",
       "<table border=\"1\" class=\"dataframe\">\n",
       "  <thead>\n",
       "    <tr style=\"text-align: right;\">\n",
       "      <th></th>\n",
       "      <th>PassengerId</th>\n",
       "      <th>Pclass</th>\n",
       "      <th>Sex</th>\n",
       "      <th>Age</th>\n",
       "      <th>Fare</th>\n",
       "      <th>Embarked</th>\n",
       "      <th>WithSibSp</th>\n",
       "      <th>WithParch</th>\n",
       "    </tr>\n",
       "  </thead>\n",
       "  <tbody>\n",
       "    <tr>\n",
       "      <th>152</th>\n",
       "      <td>1044</td>\n",
       "      <td>3</td>\n",
       "      <td>0</td>\n",
       "      <td>4</td>\n",
       "      <td>NaN</td>\n",
       "      <td>S</td>\n",
       "      <td>0</td>\n",
       "      <td>0</td>\n",
       "    </tr>\n",
       "  </tbody>\n",
       "</table>\n",
       "</div>"
      ],
      "text/plain": [
       "     PassengerId  Pclass Sex  Age  Fare Embarked  WithSibSp  WithParch\n",
       "152         1044       3   0    4   NaN        S          0          0"
      ]
     },
     "execution_count": 37,
     "metadata": {},
     "output_type": "execute_result"
    }
   ],
   "source": [
    "test[test['Fare'].isna()]"
   ]
  },
  {
   "cell_type": "markdown",
   "id": "891f80ff",
   "metadata": {
    "papermill": {
     "duration": 0.083135,
     "end_time": "2022-04-17T21:23:16.818008",
     "exception": false,
     "start_time": "2022-04-17T21:23:16.734873",
     "status": "completed"
    },
    "tags": []
   },
   "source": [
    "**Estimate *Fare* based on mean of 3rd class passenger fares and *Age***"
   ]
  },
  {
   "cell_type": "code",
   "execution_count": 38,
   "id": "50b8edeb",
   "metadata": {
    "execution": {
     "iopub.execute_input": "2022-04-17T21:23:16.985033Z",
     "iopub.status.busy": "2022-04-17T21:23:16.984392Z",
     "iopub.status.idle": "2022-04-17T21:23:16.998600Z",
     "shell.execute_reply": "2022-04-17T21:23:16.997791Z"
    },
    "papermill": {
     "duration": 0.100085,
     "end_time": "2022-04-17T21:23:17.000598",
     "exception": false,
     "start_time": "2022-04-17T21:23:16.900513",
     "status": "completed"
    },
    "tags": []
   },
   "outputs": [
    {
     "data": {
      "text/html": [
       "<div>\n",
       "<style scoped>\n",
       "    .dataframe tbody tr th:only-of-type {\n",
       "        vertical-align: middle;\n",
       "    }\n",
       "\n",
       "    .dataframe tbody tr th {\n",
       "        vertical-align: top;\n",
       "    }\n",
       "\n",
       "    .dataframe thead th {\n",
       "        text-align: right;\n",
       "    }\n",
       "</style>\n",
       "<table border=\"1\" class=\"dataframe\">\n",
       "  <thead>\n",
       "    <tr style=\"text-align: right;\">\n",
       "      <th></th>\n",
       "      <th></th>\n",
       "      <th>Fare</th>\n",
       "    </tr>\n",
       "    <tr>\n",
       "      <th>Age</th>\n",
       "      <th>Pclass</th>\n",
       "      <th></th>\n",
       "    </tr>\n",
       "  </thead>\n",
       "  <tbody>\n",
       "    <tr>\n",
       "      <th rowspan=\"3\" valign=\"top\">0</th>\n",
       "      <th>1</th>\n",
       "      <td>111.415000</td>\n",
       "    </tr>\n",
       "    <tr>\n",
       "      <th>2</th>\n",
       "      <td>30.809585</td>\n",
       "    </tr>\n",
       "    <tr>\n",
       "      <th>3</th>\n",
       "      <td>15.600260</td>\n",
       "    </tr>\n",
       "    <tr>\n",
       "      <th rowspan=\"3\" valign=\"top\">1</th>\n",
       "      <th>1</th>\n",
       "      <td>69.060083</td>\n",
       "    </tr>\n",
       "    <tr>\n",
       "      <th>2</th>\n",
       "      <td>19.613542</td>\n",
       "    </tr>\n",
       "    <tr>\n",
       "      <th>3</th>\n",
       "      <td>10.639581</td>\n",
       "    </tr>\n",
       "    <tr>\n",
       "      <th rowspan=\"3\" valign=\"top\">2</th>\n",
       "      <th>1</th>\n",
       "      <td>87.690420</td>\n",
       "    </tr>\n",
       "    <tr>\n",
       "      <th>2</th>\n",
       "      <td>17.820654</td>\n",
       "    </tr>\n",
       "    <tr>\n",
       "      <th>3</th>\n",
       "      <td>10.829873</td>\n",
       "    </tr>\n",
       "    <tr>\n",
       "      <th rowspan=\"3\" valign=\"top\">3</th>\n",
       "      <th>1</th>\n",
       "      <td>99.109931</td>\n",
       "    </tr>\n",
       "    <tr>\n",
       "      <th>2</th>\n",
       "      <td>22.058333</td>\n",
       "    </tr>\n",
       "    <tr>\n",
       "      <th>3</th>\n",
       "      <td>14.782768</td>\n",
       "    </tr>\n",
       "    <tr>\n",
       "      <th rowspan=\"3\" valign=\"top\">4</th>\n",
       "      <th>1</th>\n",
       "      <td>99.297514</td>\n",
       "    </tr>\n",
       "    <tr>\n",
       "      <th>2</th>\n",
       "      <td>21.991226</td>\n",
       "    </tr>\n",
       "    <tr>\n",
       "      <th>3</th>\n",
       "      <td>14.988542</td>\n",
       "    </tr>\n",
       "  </tbody>\n",
       "</table>\n",
       "</div>"
      ],
      "text/plain": [
       "                  Fare\n",
       "Age Pclass            \n",
       "0   1       111.415000\n",
       "    2        30.809585\n",
       "    3        15.600260\n",
       "1   1        69.060083\n",
       "    2        19.613542\n",
       "    3        10.639581\n",
       "2   1        87.690420\n",
       "    2        17.820654\n",
       "    3        10.829873\n",
       "3   1        99.109931\n",
       "    2        22.058333\n",
       "    3        14.782768\n",
       "4   1        99.297514\n",
       "    2        21.991226\n",
       "    3        14.988542"
      ]
     },
     "execution_count": 38,
     "metadata": {},
     "output_type": "execute_result"
    }
   ],
   "source": [
    "test[['Pclass', 'Fare', 'Age']].groupby(['Age', 'Pclass']).mean()"
   ]
  },
  {
   "cell_type": "code",
   "execution_count": 39,
   "id": "d04c9533",
   "metadata": {
    "execution": {
     "iopub.execute_input": "2022-04-17T21:23:17.169878Z",
     "iopub.status.busy": "2022-04-17T21:23:17.169339Z",
     "iopub.status.idle": "2022-04-17T21:23:17.174700Z",
     "shell.execute_reply": "2022-04-17T21:23:17.174170Z"
    },
    "papermill": {
     "duration": 0.092101,
     "end_time": "2022-04-17T21:23:17.176618",
     "exception": false,
     "start_time": "2022-04-17T21:23:17.084517",
     "status": "completed"
    },
    "tags": []
   },
   "outputs": [],
   "source": [
    "test.loc[test['Fare'].isna(), 'Fare']= int(14.988542)"
   ]
  },
  {
   "cell_type": "code",
   "execution_count": 40,
   "id": "aec2b10b",
   "metadata": {
    "execution": {
     "iopub.execute_input": "2022-04-17T21:23:17.344312Z",
     "iopub.status.busy": "2022-04-17T21:23:17.344007Z",
     "iopub.status.idle": "2022-04-17T21:23:17.354187Z",
     "shell.execute_reply": "2022-04-17T21:23:17.353581Z"
    },
    "papermill": {
     "duration": 0.096802,
     "end_time": "2022-04-17T21:23:17.356110",
     "exception": false,
     "start_time": "2022-04-17T21:23:17.259308",
     "status": "completed"
    },
    "tags": []
   },
   "outputs": [],
   "source": [
    "test.loc[test['Fare'] <= 7.896, 'Fare'] = 0\n",
    "test.loc[(test['Fare'] > 7.896) & (test['Fare'] <= 14.454), 'Fare'] = 1\n",
    "test.loc[(test['Fare'] > 14.454) & (test['Fare'] <= 31), 'Fare'] = 2\n",
    "test.loc[test['Fare'] > 31, 'Fare'] = 3\n",
    "\n",
    "test['Fare'] = test['Fare'].astype(int)"
   ]
  },
  {
   "cell_type": "markdown",
   "id": "d69dfb49",
   "metadata": {
    "papermill": {
     "duration": 0.08256,
     "end_time": "2022-04-17T21:23:17.521976",
     "exception": false,
     "start_time": "2022-04-17T21:23:17.439416",
     "status": "completed"
    },
    "tags": []
   },
   "source": [
    "### Convert port abbreviations into numeric values -> C:0, Q:1, S:2\n"
   ]
  },
  {
   "cell_type": "code",
   "execution_count": 41,
   "id": "4abcee21",
   "metadata": {
    "execution": {
     "iopub.execute_input": "2022-04-17T21:23:17.689530Z",
     "iopub.status.busy": "2022-04-17T21:23:17.689252Z",
     "iopub.status.idle": "2022-04-17T21:23:17.696246Z",
     "shell.execute_reply": "2022-04-17T21:23:17.695690Z"
    },
    "papermill": {
     "duration": 0.092483,
     "end_time": "2022-04-17T21:23:17.697985",
     "exception": false,
     "start_time": "2022-04-17T21:23:17.605502",
     "status": "completed"
    },
    "tags": []
   },
   "outputs": [],
   "source": [
    "test.loc[test['Embarked']=='C', 'Embarked'] = 0\n",
    "test.loc[test['Embarked']=='Q', 'Embarked'] = 1\n",
    "test.loc[test['Embarked']=='S', 'Embarked'] = 2"
   ]
  },
  {
   "cell_type": "code",
   "execution_count": 42,
   "id": "7f06d086",
   "metadata": {
    "execution": {
     "iopub.execute_input": "2022-04-17T21:23:17.864513Z",
     "iopub.status.busy": "2022-04-17T21:23:17.863996Z",
     "iopub.status.idle": "2022-04-17T21:23:17.874901Z",
     "shell.execute_reply": "2022-04-17T21:23:17.874107Z"
    },
    "papermill": {
     "duration": 0.096481,
     "end_time": "2022-04-17T21:23:17.876829",
     "exception": false,
     "start_time": "2022-04-17T21:23:17.780348",
     "status": "completed"
    },
    "tags": []
   },
   "outputs": [
    {
     "data": {
      "text/html": [
       "<div>\n",
       "<style scoped>\n",
       "    .dataframe tbody tr th:only-of-type {\n",
       "        vertical-align: middle;\n",
       "    }\n",
       "\n",
       "    .dataframe tbody tr th {\n",
       "        vertical-align: top;\n",
       "    }\n",
       "\n",
       "    .dataframe thead th {\n",
       "        text-align: right;\n",
       "    }\n",
       "</style>\n",
       "<table border=\"1\" class=\"dataframe\">\n",
       "  <thead>\n",
       "    <tr style=\"text-align: right;\">\n",
       "      <th></th>\n",
       "      <th>PassengerId</th>\n",
       "      <th>Pclass</th>\n",
       "      <th>Sex</th>\n",
       "      <th>Age</th>\n",
       "      <th>Fare</th>\n",
       "      <th>Embarked</th>\n",
       "      <th>WithSibSp</th>\n",
       "      <th>WithParch</th>\n",
       "    </tr>\n",
       "  </thead>\n",
       "  <tbody>\n",
       "    <tr>\n",
       "      <th>0</th>\n",
       "      <td>892</td>\n",
       "      <td>3</td>\n",
       "      <td>0</td>\n",
       "      <td>3</td>\n",
       "      <td>0</td>\n",
       "      <td>1</td>\n",
       "      <td>0</td>\n",
       "      <td>0</td>\n",
       "    </tr>\n",
       "    <tr>\n",
       "      <th>1</th>\n",
       "      <td>893</td>\n",
       "      <td>3</td>\n",
       "      <td>1</td>\n",
       "      <td>4</td>\n",
       "      <td>0</td>\n",
       "      <td>2</td>\n",
       "      <td>1</td>\n",
       "      <td>0</td>\n",
       "    </tr>\n",
       "    <tr>\n",
       "      <th>2</th>\n",
       "      <td>894</td>\n",
       "      <td>2</td>\n",
       "      <td>0</td>\n",
       "      <td>4</td>\n",
       "      <td>1</td>\n",
       "      <td>1</td>\n",
       "      <td>0</td>\n",
       "      <td>0</td>\n",
       "    </tr>\n",
       "    <tr>\n",
       "      <th>3</th>\n",
       "      <td>895</td>\n",
       "      <td>3</td>\n",
       "      <td>0</td>\n",
       "      <td>2</td>\n",
       "      <td>1</td>\n",
       "      <td>2</td>\n",
       "      <td>0</td>\n",
       "      <td>0</td>\n",
       "    </tr>\n",
       "    <tr>\n",
       "      <th>4</th>\n",
       "      <td>896</td>\n",
       "      <td>3</td>\n",
       "      <td>1</td>\n",
       "      <td>1</td>\n",
       "      <td>1</td>\n",
       "      <td>2</td>\n",
       "      <td>1</td>\n",
       "      <td>1</td>\n",
       "    </tr>\n",
       "  </tbody>\n",
       "</table>\n",
       "</div>"
      ],
      "text/plain": [
       "   PassengerId  Pclass Sex  Age  Fare Embarked  WithSibSp  WithParch\n",
       "0          892       3   0    3     0        1          0          0\n",
       "1          893       3   1    4     0        2          1          0\n",
       "2          894       2   0    4     1        1          0          0\n",
       "3          895       3   0    2     1        2          0          0\n",
       "4          896       3   1    1     1        2          1          1"
      ]
     },
     "execution_count": 42,
     "metadata": {},
     "output_type": "execute_result"
    }
   ],
   "source": [
    "test.head()"
   ]
  },
  {
   "cell_type": "markdown",
   "id": "ce83b02a",
   "metadata": {
    "papermill": {
     "duration": 0.083475,
     "end_time": "2022-04-17T21:23:18.043420",
     "exception": false,
     "start_time": "2022-04-17T21:23:17.959945",
     "status": "completed"
    },
    "tags": []
   },
   "source": [
    "# **Prediction time**"
   ]
  },
  {
   "cell_type": "markdown",
   "id": "cd700a8a",
   "metadata": {
    "papermill": {
     "duration": 0.083298,
     "end_time": "2022-04-17T21:23:18.211018",
     "exception": false,
     "start_time": "2022-04-17T21:23:18.127720",
     "status": "completed"
    },
    "tags": []
   },
   "source": [
    "### **Logistic Regression**"
   ]
  },
  {
   "cell_type": "code",
   "execution_count": 43,
   "id": "d8b2b9f7",
   "metadata": {
    "execution": {
     "iopub.execute_input": "2022-04-17T21:23:18.380316Z",
     "iopub.status.busy": "2022-04-17T21:23:18.379850Z",
     "iopub.status.idle": "2022-04-17T21:23:18.668535Z",
     "shell.execute_reply": "2022-04-17T21:23:18.667638Z"
    },
    "papermill": {
     "duration": 0.375938,
     "end_time": "2022-04-17T21:23:18.670828",
     "exception": false,
     "start_time": "2022-04-17T21:23:18.294890",
     "status": "completed"
    },
    "tags": []
   },
   "outputs": [],
   "source": [
    "from sklearn.linear_model import LogisticRegression\n",
    "\n",
    "y = train[\"Survived\"]\n",
    "features = train.columns.values[1:]\n",
    "X = train[features]\n",
    "\n",
    "logreg = LogisticRegression()\n",
    "logreg.fit(X, y)\n",
    "test_data = test.iloc[:,1:]\n",
    "predictions = logreg.predict(test_data)\n"
   ]
  },
  {
   "cell_type": "markdown",
   "id": "740666ad",
   "metadata": {
    "papermill": {
     "duration": 0.082509,
     "end_time": "2022-04-17T21:23:18.836384",
     "exception": false,
     "start_time": "2022-04-17T21:23:18.753875",
     "status": "completed"
    },
    "tags": []
   },
   "source": [
    "# **Create Submission File**"
   ]
  },
  {
   "cell_type": "code",
   "execution_count": 44,
   "id": "f816bc1b",
   "metadata": {
    "execution": {
     "iopub.execute_input": "2022-04-17T21:23:19.008025Z",
     "iopub.status.busy": "2022-04-17T21:23:19.007026Z",
     "iopub.status.idle": "2022-04-17T21:23:19.017577Z",
     "shell.execute_reply": "2022-04-17T21:23:19.016730Z"
    },
    "papermill": {
     "duration": 0.098636,
     "end_time": "2022-04-17T21:23:19.019729",
     "exception": false,
     "start_time": "2022-04-17T21:23:18.921093",
     "status": "completed"
    },
    "tags": []
   },
   "outputs": [
    {
     "name": "stdout",
     "output_type": "stream",
     "text": [
      "Your submission was successfully saved!\n"
     ]
    }
   ],
   "source": [
    "output = pd.DataFrame({'PassengerId': test.PassengerId, 'Survived': predictions})\n",
    "output.to_csv('submission.csv', index=False)\n",
    "print(\"Your submission was successfully saved!\")"
   ]
  }
 ],
 "metadata": {
  "kernelspec": {
   "display_name": "Python 3",
   "language": "python",
   "name": "python3"
  },
  "language_info": {
   "codemirror_mode": {
    "name": "ipython",
    "version": 3
   },
   "file_extension": ".py",
   "mimetype": "text/x-python",
   "name": "python",
   "nbconvert_exporter": "python",
   "pygments_lexer": "ipython3",
   "version": "3.7.12"
  },
  "papermill": {
   "default_parameters": {},
   "duration": 27.141499,
   "end_time": "2022-04-17T21:23:19.826010",
   "environment_variables": {},
   "exception": null,
   "input_path": "__notebook__.ipynb",
   "output_path": "__notebook__.ipynb",
   "parameters": {},
   "start_time": "2022-04-17T21:22:52.684511",
   "version": "2.3.4"
  }
 },
 "nbformat": 4,
 "nbformat_minor": 5
}
