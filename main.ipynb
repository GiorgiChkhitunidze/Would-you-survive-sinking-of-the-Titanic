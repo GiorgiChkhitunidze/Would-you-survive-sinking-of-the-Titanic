{
 "cells": [
  {
   "cell_type": "code",
   "execution_count": 101,
   "metadata": {},
   "outputs": [],
   "source": [
    "import pandas as pd\n",
    "import matplotlib.pyplot as plt\n",
    "import seaborn as sns\n",
    "import numpy as np\n",
    "from sklearn.model_selection import train_test_split\n",
    "import plotly.express as px"
   ]
  },
  {
   "cell_type": "code",
   "execution_count": 7,
   "metadata": {},
   "outputs": [],
   "source": [
    "df = pd.read_csv(\"Data/train.csv\", index_col=\"PassengerId\")"
   ]
  },
  {
   "attachments": {},
   "cell_type": "markdown",
   "metadata": {},
   "source": [
    "# EDA and Preprocessing"
   ]
  },
  {
   "attachments": {},
   "cell_type": "markdown",
   "metadata": {},
   "source": [
    "### Variable Descriptions\n",
    "\n",
    "| Variable | Definition                                 | Key                                            |\n",
    "| ---------| ------------------------------------------ | ---------------------------------------------- |\n",
    "| survival | Survival                                   | 0 = No, 1 = Yes                                |\n",
    "| pclass   | Ticket class                               | 1 = 1st, 2 = 2nd, 3 = 3rd                      |\n",
    "| sex      | Sex                                        |\t                                             |\n",
    "| Age      | Age in year                                |\t                                             |\n",
    "| sibsp    | # of siblings / spouses aboard the Titanic |\t\t                                         |\n",
    "| parch    | # of parents / children aboard the Titanic |\t\t                                         |\n",
    "| ticket   | Ticket number                              |\t\t                                         |\n",
    "| fare     | Passenger fare                             |\t                                             |\t\n",
    "| cabin    | Cabin number                               |\t                                             |\n",
    "| embarked | Port of Embarkation                        | C = Cherbourg, Q = Queenstown, S = Southampton |\n",
    "\n",
    "\n",
    "### Variable Notes\n",
    "| **variable** | **Note** | **Additional Info** |\n",
    "| -------------| -------- | ------------------- |\n",
    "| ***pclass*** | A proxy for socio-economic status (SES) | <ul><li>1st = Upper</li><li>2nd = Middle</li><li>3rd = Lower</li></ul> |\n",
    "| ***age***| Age is fractional if less than 1. If the age is estimated, is it in the form of xx.5 |\n",
    "| ***sibsp*** | The dataset defines family relations in this way ==> | <ul><li>Sibling = brother, sister, stepbrother, stepsister</li><li>Spouse = husband, wife (mistresses and fiancés were ignored)</li></ul> |\n",
    "| parch    | The dataset defines family relations in this way ==> |<ul><li>Paent = mother, father</li><li>Child = daughter, son, stepdaughter, stepson</li></ul>|"
   ]
  },
  {
   "attachments": {},
   "cell_type": "markdown",
   "metadata": {},
   "source": [
    "### Split Data and Take a Look"
   ]
  },
  {
   "cell_type": "code",
   "execution_count": null,
   "metadata": {},
   "outputs": [],
   "source": [
    "# Let's split data in two\n",
    "train_df, test_df = train_test_split(df, test_size=0.2, random_state=42, stratify=df['Survived'])"
   ]
  },
  {
   "cell_type": "code",
   "execution_count": null,
   "metadata": {},
   "outputs": [
    {
     "name": "stdout",
     "output_type": "stream",
     "text": [
      "Train data traget distribution: Survived\n",
      "0    439\n",
      "1    273\n",
      "Name: count, dtype: int64\n",
      "\n",
      "Test data traget distribution: Survived\n",
      "0    110\n",
      "1     69\n",
      "Name: count, dtype: int64\n"
     ]
    }
   ],
   "source": [
    "print('Train data traget distribution:', train_df.Survived.value_counts(), end='\\n\\n')\n",
    "print('Test data traget distribution:', test_df.Survived.value_counts())"
   ]
  },
  {
   "cell_type": "code",
   "execution_count": null,
   "metadata": {},
   "outputs": [
    {
     "data": {
      "text/html": [
       "<div>\n",
       "<style scoped>\n",
       "    .dataframe tbody tr th:only-of-type {\n",
       "        vertical-align: middle;\n",
       "    }\n",
       "\n",
       "    .dataframe tbody tr th {\n",
       "        vertical-align: top;\n",
       "    }\n",
       "\n",
       "    .dataframe thead th {\n",
       "        text-align: right;\n",
       "    }\n",
       "</style>\n",
       "<table border=\"1\" class=\"dataframe\">\n",
       "  <thead>\n",
       "    <tr style=\"text-align: right;\">\n",
       "      <th></th>\n",
       "      <th>Survived</th>\n",
       "      <th>Pclass</th>\n",
       "      <th>Name</th>\n",
       "      <th>Sex</th>\n",
       "      <th>Age</th>\n",
       "      <th>SibSp</th>\n",
       "      <th>Parch</th>\n",
       "      <th>Ticket</th>\n",
       "      <th>Fare</th>\n",
       "      <th>Cabin</th>\n",
       "      <th>Embarked</th>\n",
       "    </tr>\n",
       "    <tr>\n",
       "      <th>PassengerId</th>\n",
       "      <th></th>\n",
       "      <th></th>\n",
       "      <th></th>\n",
       "      <th></th>\n",
       "      <th></th>\n",
       "      <th></th>\n",
       "      <th></th>\n",
       "      <th></th>\n",
       "      <th></th>\n",
       "      <th></th>\n",
       "      <th></th>\n",
       "    </tr>\n",
       "  </thead>\n",
       "  <tbody>\n",
       "    <tr>\n",
       "      <th>693</th>\n",
       "      <td>1</td>\n",
       "      <td>3</td>\n",
       "      <td>Lam, Mr. Ali</td>\n",
       "      <td>male</td>\n",
       "      <td>NaN</td>\n",
       "      <td>0</td>\n",
       "      <td>0</td>\n",
       "      <td>1601</td>\n",
       "      <td>56.4958</td>\n",
       "      <td>NaN</td>\n",
       "      <td>S</td>\n",
       "    </tr>\n",
       "    <tr>\n",
       "      <th>482</th>\n",
       "      <td>0</td>\n",
       "      <td>2</td>\n",
       "      <td>Frost, Mr. Anthony Wood \"Archie\"</td>\n",
       "      <td>male</td>\n",
       "      <td>NaN</td>\n",
       "      <td>0</td>\n",
       "      <td>0</td>\n",
       "      <td>239854</td>\n",
       "      <td>0.0000</td>\n",
       "      <td>NaN</td>\n",
       "      <td>S</td>\n",
       "    </tr>\n",
       "    <tr>\n",
       "      <th>528</th>\n",
       "      <td>0</td>\n",
       "      <td>1</td>\n",
       "      <td>Farthing, Mr. John</td>\n",
       "      <td>male</td>\n",
       "      <td>NaN</td>\n",
       "      <td>0</td>\n",
       "      <td>0</td>\n",
       "      <td>PC 17483</td>\n",
       "      <td>221.7792</td>\n",
       "      <td>C95</td>\n",
       "      <td>S</td>\n",
       "    </tr>\n",
       "    <tr>\n",
       "      <th>856</th>\n",
       "      <td>1</td>\n",
       "      <td>3</td>\n",
       "      <td>Aks, Mrs. Sam (Leah Rosen)</td>\n",
       "      <td>female</td>\n",
       "      <td>18.0</td>\n",
       "      <td>0</td>\n",
       "      <td>1</td>\n",
       "      <td>392091</td>\n",
       "      <td>9.3500</td>\n",
       "      <td>NaN</td>\n",
       "      <td>S</td>\n",
       "    </tr>\n",
       "    <tr>\n",
       "      <th>802</th>\n",
       "      <td>1</td>\n",
       "      <td>2</td>\n",
       "      <td>Collyer, Mrs. Harvey (Charlotte Annie Tate)</td>\n",
       "      <td>female</td>\n",
       "      <td>31.0</td>\n",
       "      <td>1</td>\n",
       "      <td>1</td>\n",
       "      <td>C.A. 31921</td>\n",
       "      <td>26.2500</td>\n",
       "      <td>NaN</td>\n",
       "      <td>S</td>\n",
       "    </tr>\n",
       "  </tbody>\n",
       "</table>\n",
       "</div>"
      ],
      "text/plain": [
       "             Survived  Pclass                                         Name   \n",
       "PassengerId                                                                  \n",
       "693                 1       3                                 Lam, Mr. Ali  \\\n",
       "482                 0       2             Frost, Mr. Anthony Wood \"Archie\"   \n",
       "528                 0       1                           Farthing, Mr. John   \n",
       "856                 1       3                   Aks, Mrs. Sam (Leah Rosen)   \n",
       "802                 1       2  Collyer, Mrs. Harvey (Charlotte Annie Tate)   \n",
       "\n",
       "                Sex   Age  SibSp  Parch      Ticket      Fare Cabin Embarked  \n",
       "PassengerId                                                                   \n",
       "693            male   NaN      0      0        1601   56.4958   NaN        S  \n",
       "482            male   NaN      0      0      239854    0.0000   NaN        S  \n",
       "528            male   NaN      0      0    PC 17483  221.7792   C95        S  \n",
       "856          female  18.0      0      1      392091    9.3500   NaN        S  \n",
       "802          female  31.0      1      1  C.A. 31921   26.2500   NaN        S  "
      ]
     },
     "metadata": {},
     "output_type": "display_data"
    }
   ],
   "source": [
    "train_df.head()"
   ]
  },
  {
   "cell_type": "code",
   "execution_count": 36,
   "metadata": {},
   "outputs": [
    {
     "name": "stdout",
     "output_type": "stream",
     "text": [
      "<class 'pandas.core.frame.DataFrame'>\n",
      "Index: 712 entries, 693 to 508\n",
      "Data columns (total 11 columns):\n",
      " #   Column    Non-Null Count  Dtype  \n",
      "---  ------    --------------  -----  \n",
      " 0   Survived  712 non-null    int64  \n",
      " 1   Pclass    712 non-null    int64  \n",
      " 2   Name      712 non-null    object \n",
      " 3   Sex       712 non-null    object \n",
      " 4   Age       575 non-null    float64\n",
      " 5   SibSp     712 non-null    int64  \n",
      " 6   Parch     712 non-null    int64  \n",
      " 7   Ticket    712 non-null    object \n",
      " 8   Fare      712 non-null    float64\n",
      " 9   Cabin     160 non-null    object \n",
      " 10  Embarked  710 non-null    object \n",
      "dtypes: float64(2), int64(4), object(5)\n",
      "memory usage: 66.8+ KB\n"
     ]
    }
   ],
   "source": [
    "# Check train_df for missing values\n",
    "train_df.info()"
   ]
  },
  {
   "cell_type": "code",
   "execution_count": 37,
   "metadata": {},
   "outputs": [
    {
     "name": "stdout",
     "output_type": "stream",
     "text": [
      "<class 'pandas.core.frame.DataFrame'>\n",
      "Index: 179 entries, 566 to 638\n",
      "Data columns (total 11 columns):\n",
      " #   Column    Non-Null Count  Dtype  \n",
      "---  ------    --------------  -----  \n",
      " 0   Survived  179 non-null    int64  \n",
      " 1   Pclass    179 non-null    int64  \n",
      " 2   Name      179 non-null    object \n",
      " 3   Sex       179 non-null    object \n",
      " 4   Age       139 non-null    float64\n",
      " 5   SibSp     179 non-null    int64  \n",
      " 6   Parch     179 non-null    int64  \n",
      " 7   Ticket    179 non-null    object \n",
      " 8   Fare      179 non-null    float64\n",
      " 9   Cabin     44 non-null     object \n",
      " 10  Embarked  179 non-null    object \n",
      "dtypes: float64(2), int64(4), object(5)\n",
      "memory usage: 16.8+ KB\n"
     ]
    }
   ],
   "source": [
    "# Check test_df for missing values\n",
    "test_df.info()"
   ]
  },
  {
   "attachments": {},
   "cell_type": "markdown",
   "metadata": {},
   "source": [
    "<p style=\"background-color: #32656e\"><i>Looks like there are several missing values in both datasets. <b><i>Age</i></b> has null values in both tables, and we will try to impute them later. About 3/4th of <b><i>Cabin</i></b> values are missing in both tables. There is no way to impute them so we will drop the entire variable. As for <b><i>Embarked</i></b>, there are 2 values missing so, dropping those two rows won't affect anything.</i></p>"
   ]
  },
  {
   "attachments": {},
   "cell_type": "markdown",
   "metadata": {},
   "source": [
    "### Impute Missing Values and Drop Those that Can't be Helped"
   ]
  },
  {
   "cell_type": "code",
   "execution_count": 117,
   "metadata": {},
   "outputs": [],
   "source": [
    "# Drop Cabin\n",
    "train_df.drop('Cabin', axis=1, inplace=True)\n",
    "test_df.drop('Cabin', axis=1, inplace=True)\n",
    "\n",
    "# Drop two missing values of Embarked in train_df\n",
    "train_df.dropna(subset=['Embarked'], inplace=True)"
   ]
  },
  {
   "cell_type": "code",
   "execution_count": 118,
   "metadata": {},
   "outputs": [],
   "source": [
    "# extract honorifics from name\n",
    "train_df[\"Honorifics\"] = train_df.Name.str.split(\",\").str[1].str.split(\".\").str[0]\n",
    "test_df[\"Honorifics\"] = test_df.Name.str.split(\",\").str[1].str.split(\".\").str[0]"
   ]
  },
  {
   "cell_type": "code",
   "execution_count": 130,
   "metadata": {},
   "outputs": [
    {
     "name": "stdout",
     "output_type": "stream",
     "text": [
      "Number of Age missing values aggregated by Honorifics\n"
     ]
    },
    {
     "data": {
      "text/html": [
       "<div>\n",
       "<style scoped>\n",
       "    .dataframe tbody tr th:only-of-type {\n",
       "        vertical-align: middle;\n",
       "    }\n",
       "\n",
       "    .dataframe tbody tr th {\n",
       "        vertical-align: top;\n",
       "    }\n",
       "\n",
       "    .dataframe thead th {\n",
       "        text-align: right;\n",
       "    }\n",
       "</style>\n",
       "<table border=\"1\" class=\"dataframe\">\n",
       "  <thead>\n",
       "    <tr style=\"text-align: right;\">\n",
       "      <th></th>\n",
       "      <th>Train</th>\n",
       "      <th>Test</th>\n",
       "    </tr>\n",
       "    <tr>\n",
       "      <th>Honorifics</th>\n",
       "      <th></th>\n",
       "      <th></th>\n",
       "    </tr>\n",
       "  </thead>\n",
       "  <tbody>\n",
       "    <tr>\n",
       "      <th>Mr</th>\n",
       "      <td>94</td>\n",
       "      <td>25</td>\n",
       "    </tr>\n",
       "    <tr>\n",
       "      <th>Miss</th>\n",
       "      <td>26</td>\n",
       "      <td>10</td>\n",
       "    </tr>\n",
       "    <tr>\n",
       "      <th>Mrs</th>\n",
       "      <td>13</td>\n",
       "      <td>4</td>\n",
       "    </tr>\n",
       "    <tr>\n",
       "      <th>Master</th>\n",
       "      <td>3</td>\n",
       "      <td>1</td>\n",
       "    </tr>\n",
       "    <tr>\n",
       "      <th>Dr</th>\n",
       "      <td>1</td>\n",
       "      <td>0</td>\n",
       "    </tr>\n",
       "  </tbody>\n",
       "</table>\n",
       "</div>"
      ],
      "text/plain": [
       "            Train  Test\n",
       "Honorifics             \n",
       " Mr            94    25\n",
       " Miss          26    10\n",
       " Mrs           13     4\n",
       " Master         3     1\n",
       " Dr             1     0"
      ]
     },
     "execution_count": 130,
     "metadata": {},
     "output_type": "execute_result"
    }
   ],
   "source": [
    "honorifies_df = pd.concat([\n",
    "    train_df.loc[train_df.Age.isna()==True, \"Honorifics\"].value_counts(), \\\n",
    "    test_df.loc[test_df.Age.isna()==True, \"Honorifics\"].value_counts()\n",
    "    ], axis=1).fillna(0).astype('int')\n",
    "honorifies_df.columns = [\"Train\", \"Test\"]\n",
    "\n",
    "print(\"Number of Age missing values aggregated by Honorifics\")\n",
    "honorifies_df"
   ]
  },
  {
   "attachments": {},
   "cell_type": "markdown",
   "metadata": {},
   "source": [
    "<p style=\"background-color: #32656e\"><i>There is not any <b><i>Dr</i></b> in test set but that's ok.</i></p>"
   ]
  },
  {
   "cell_type": "code",
   "execution_count": 140,
   "metadata": {},
   "outputs": [
    {
     "data": {
      "application/vnd.plotly.v1+json": {
       "config": {
        "plotlyServerURL": "https://plot.ly"
       },
       "data": [
        {
         "hovertemplate": "Honorifics= Mr<br>Age=%{y}<extra></extra>",
         "legendgroup": " Mr",
         "marker": {
          "color": "#636efa",
          "symbol": "circle"
         },
         "mode": "markers",
         "name": " Mr",
         "orientation": "v",
         "showlegend": true,
         "type": "scatter",
         "x": [
          null,
          null,
          null,
          21,
          26,
          null,
          null,
          null,
          56,
          21,
          21,
          null,
          43,
          30,
          19,
          24,
          23,
          42,
          16,
          null,
          66,
          28,
          47,
          18,
          36,
          25,
          null,
          null,
          71,
          32,
          19,
          null,
          50,
          19,
          null,
          30,
          21,
          30,
          19,
          null,
          null,
          28,
          30,
          25,
          14,
          17,
          null,
          50,
          16,
          60,
          22,
          30,
          17,
          25,
          27,
          36,
          29,
          null,
          51,
          22,
          null,
          null,
          32,
          50,
          59,
          28,
          null,
          32.5,
          19,
          30,
          59,
          51,
          18,
          55.5,
          24,
          null,
          null,
          null,
          32,
          26,
          16,
          19,
          null,
          48,
          null,
          34,
          null,
          23,
          39,
          null,
          34,
          23,
          null,
          22,
          52,
          17,
          49,
          44,
          64,
          19,
          26,
          43,
          null,
          16,
          19,
          47,
          18,
          18,
          32,
          33,
          35,
          64,
          52,
          61,
          24,
          43,
          21,
          16,
          20,
          null,
          30,
          29,
          28,
          36,
          48,
          26,
          null,
          38,
          null,
          15,
          35,
          null,
          24,
          36,
          null,
          45.5,
          33,
          19,
          18,
          null,
          null,
          48,
          22,
          29,
          null,
          38,
          44,
          18,
          null,
          35,
          74,
          31,
          28.5,
          56,
          26,
          32,
          null,
          40,
          27,
          null,
          38,
          null,
          null,
          null,
          29,
          49,
          24,
          32,
          36.5,
          30,
          29,
          71,
          22,
          26,
          null,
          45,
          22,
          34,
          null,
          45.5,
          null,
          23,
          30,
          null,
          34,
          31,
          null,
          40,
          32,
          20,
          27,
          23,
          34,
          32,
          null,
          25,
          24,
          21,
          31,
          23,
          19,
          65,
          null,
          18,
          27,
          54,
          null,
          47,
          21,
          29,
          39,
          36,
          null,
          null,
          null,
          40,
          31,
          26,
          24,
          22,
          45,
          51,
          null,
          27,
          null,
          42,
          30,
          20,
          null,
          null,
          17,
          null,
          29,
          35,
          21,
          20,
          39,
          26,
          33,
          32,
          39,
          28,
          37,
          null,
          23,
          38,
          25,
          54,
          28,
          null,
          null,
          21,
          24,
          51,
          19,
          22,
          61,
          null,
          19,
          null,
          28,
          41,
          28.5,
          null,
          21,
          36,
          40.5,
          29,
          19,
          35,
          null,
          null,
          null,
          21,
          20,
          58,
          17,
          65,
          21,
          31,
          32,
          39,
          20,
          34,
          47,
          36,
          21,
          null,
          null,
          null,
          null,
          33,
          45,
          39,
          20,
          34.5,
          28,
          null,
          null,
          null,
          20.5,
          null,
          null,
          20,
          39,
          23,
          70,
          16,
          21,
          null,
          24,
          40,
          33,
          18,
          28,
          37,
          27,
          42,
          51,
          null,
          null,
          42,
          42,
          null,
          36,
          65,
          46,
          28,
          25,
          27,
          null,
          42,
          null,
          24,
          24,
          18,
          14,
          22,
          37,
          47,
          null,
          28,
          36,
          20,
          22,
          29,
          26,
          null,
          32,
          null,
          18,
          null,
          33,
          22,
          36,
          25,
          19,
          36,
          23,
          35,
          29,
          44,
          36,
          null,
          null,
          21,
          16,
          32,
          null,
          42,
          28,
          18,
          18,
          36,
          25,
          54,
          80,
          22,
          20,
          35,
          30,
          null,
          38,
          39,
          22,
          20,
          32,
          28,
          22,
          36,
          40,
          40,
          27,
          34,
          70.5,
          19,
          25,
          42,
          21,
          null,
          null,
          45,
          null,
          25,
          33,
          32,
          26,
          37,
          50,
          34,
          47,
          null
         ],
         "xaxis": "x",
         "y": [
          null,
          null,
          null,
          21,
          26,
          null,
          null,
          null,
          56,
          21,
          21,
          null,
          43,
          30,
          19,
          24,
          23,
          42,
          16,
          null,
          66,
          28,
          47,
          18,
          36,
          25,
          null,
          null,
          71,
          32,
          19,
          null,
          50,
          19,
          null,
          30,
          21,
          30,
          19,
          null,
          null,
          28,
          30,
          25,
          14,
          17,
          null,
          50,
          16,
          60,
          22,
          30,
          17,
          25,
          27,
          36,
          29,
          null,
          51,
          22,
          null,
          null,
          32,
          50,
          59,
          28,
          null,
          32.5,
          19,
          30,
          59,
          51,
          18,
          55.5,
          24,
          null,
          null,
          null,
          32,
          26,
          16,
          19,
          null,
          48,
          null,
          34,
          null,
          23,
          39,
          null,
          34,
          23,
          null,
          22,
          52,
          17,
          49,
          44,
          64,
          19,
          26,
          43,
          null,
          16,
          19,
          47,
          18,
          18,
          32,
          33,
          35,
          64,
          52,
          61,
          24,
          43,
          21,
          16,
          20,
          null,
          30,
          29,
          28,
          36,
          48,
          26,
          null,
          38,
          null,
          15,
          35,
          null,
          24,
          36,
          null,
          45.5,
          33,
          19,
          18,
          null,
          null,
          48,
          22,
          29,
          null,
          38,
          44,
          18,
          null,
          35,
          74,
          31,
          28.5,
          56,
          26,
          32,
          null,
          40,
          27,
          null,
          38,
          null,
          null,
          null,
          29,
          49,
          24,
          32,
          36.5,
          30,
          29,
          71,
          22,
          26,
          null,
          45,
          22,
          34,
          null,
          45.5,
          null,
          23,
          30,
          null,
          34,
          31,
          null,
          40,
          32,
          20,
          27,
          23,
          34,
          32,
          null,
          25,
          24,
          21,
          31,
          23,
          19,
          65,
          null,
          18,
          27,
          54,
          null,
          47,
          21,
          29,
          39,
          36,
          null,
          null,
          null,
          40,
          31,
          26,
          24,
          22,
          45,
          51,
          null,
          27,
          null,
          42,
          30,
          20,
          null,
          null,
          17,
          null,
          29,
          35,
          21,
          20,
          39,
          26,
          33,
          32,
          39,
          28,
          37,
          null,
          23,
          38,
          25,
          54,
          28,
          null,
          null,
          21,
          24,
          51,
          19,
          22,
          61,
          null,
          19,
          null,
          28,
          41,
          28.5,
          null,
          21,
          36,
          40.5,
          29,
          19,
          35,
          null,
          null,
          null,
          21,
          20,
          58,
          17,
          65,
          21,
          31,
          32,
          39,
          20,
          34,
          47,
          36,
          21,
          null,
          null,
          null,
          null,
          33,
          45,
          39,
          20,
          34.5,
          28,
          null,
          null,
          null,
          20.5,
          null,
          null,
          20,
          39,
          23,
          70,
          16,
          21,
          null,
          24,
          40,
          33,
          18,
          28,
          37,
          27,
          42,
          51,
          null,
          null,
          42,
          42,
          null,
          36,
          65,
          46,
          28,
          25,
          27,
          null,
          42,
          null,
          24,
          24,
          18,
          14,
          22,
          37,
          47,
          null,
          28,
          36,
          20,
          22,
          29,
          26,
          null,
          32,
          null,
          18,
          null,
          33,
          22,
          36,
          25,
          19,
          36,
          23,
          35,
          29,
          44,
          36,
          null,
          null,
          21,
          16,
          32,
          null,
          42,
          28,
          18,
          18,
          36,
          25,
          54,
          80,
          22,
          20,
          35,
          30,
          null,
          38,
          39,
          22,
          20,
          32,
          28,
          22,
          36,
          40,
          40,
          27,
          34,
          70.5,
          19,
          25,
          42,
          21,
          null,
          null,
          45,
          null,
          25,
          33,
          32,
          26,
          37,
          50,
          34,
          47,
          null
         ],
         "yaxis": "y"
        },
        {
         "hovertemplate": "Honorifics= Mrs<br>Age=%{y}<extra></extra>",
         "legendgroup": " Mrs",
         "marker": {
          "color": "#EF553B",
          "symbol": "circle"
         },
         "mode": "markers",
         "name": " Mrs",
         "orientation": "v",
         "showlegend": true,
         "type": "scatter",
         "x": [
          18,
          31,
          31,
          null,
          45,
          22,
          32,
          36,
          29,
          39,
          35,
          null,
          null,
          33,
          24,
          41,
          null,
          45,
          null,
          29,
          58,
          44,
          35,
          43,
          24,
          42,
          40,
          36,
          24,
          34,
          63,
          38,
          45,
          41,
          31,
          18,
          51,
          31,
          44,
          47,
          52,
          43,
          null,
          49,
          22,
          29,
          48,
          27,
          54,
          19,
          22,
          44,
          33,
          42,
          39,
          17,
          47,
          38,
          null,
          40,
          28,
          45,
          null,
          26,
          28,
          29,
          24,
          null,
          41,
          24,
          54,
          40,
          29,
          15,
          33,
          18,
          39,
          39,
          null,
          34,
          36,
          null,
          48,
          32,
          28,
          50,
          null,
          50,
          19,
          35,
          null,
          27,
          28,
          55,
          57,
          39,
          29,
          26,
          35,
          24,
          17,
          45,
          52,
          34,
          25,
          48
         ],
         "xaxis": "x",
         "y": [
          18,
          31,
          31,
          null,
          45,
          22,
          32,
          36,
          29,
          39,
          35,
          null,
          null,
          33,
          24,
          41,
          null,
          45,
          null,
          29,
          58,
          44,
          35,
          43,
          24,
          42,
          40,
          36,
          24,
          34,
          63,
          38,
          45,
          41,
          31,
          18,
          51,
          31,
          44,
          47,
          52,
          43,
          null,
          49,
          22,
          29,
          48,
          27,
          54,
          19,
          22,
          44,
          33,
          42,
          39,
          17,
          47,
          38,
          null,
          40,
          28,
          45,
          null,
          26,
          28,
          29,
          24,
          null,
          41,
          24,
          54,
          40,
          29,
          15,
          33,
          18,
          39,
          39,
          null,
          34,
          36,
          null,
          48,
          32,
          28,
          50,
          null,
          50,
          19,
          35,
          null,
          27,
          28,
          55,
          57,
          39,
          29,
          26,
          35,
          24,
          17,
          45,
          52,
          34,
          25,
          48
         ],
         "yaxis": "y"
        },
        {
         "hovertemplate": "Honorifics= Miss<br>Age=%{y}<extra></extra>",
         "legendgroup": " Miss",
         "marker": {
          "color": "#00cc96",
          "symbol": "circle"
         },
         "mode": "markers",
         "name": " Miss",
         "orientation": "v",
         "showlegend": true,
         "type": "scatter",
         "x": [
          21,
          33,
          null,
          32,
          39,
          30,
          null,
          19,
          22,
          30,
          18,
          38,
          2,
          18,
          23,
          21,
          58,
          3,
          13,
          null,
          30,
          16,
          null,
          1,
          null,
          17,
          21,
          18,
          4,
          null,
          null,
          26,
          31,
          27,
          30.5,
          24,
          0.75,
          null,
          18,
          23,
          36,
          22,
          null,
          20,
          3,
          25,
          22,
          16,
          2,
          18,
          45,
          18,
          27,
          null,
          25,
          31,
          4,
          null,
          32.5,
          2,
          11,
          null,
          19,
          8,
          4,
          42,
          14.5,
          5,
          null,
          6,
          19,
          7,
          35,
          14,
          50,
          22,
          21,
          22,
          18,
          null,
          5,
          null,
          30,
          30,
          20,
          10,
          9,
          36,
          22,
          37,
          null,
          22,
          5,
          13,
          38,
          26,
          19,
          null,
          15,
          null,
          4,
          null,
          30,
          18,
          24,
          4,
          22,
          null,
          8,
          null,
          1,
          6,
          54,
          2,
          9,
          40,
          41,
          null,
          31,
          22,
          26,
          15,
          30,
          null,
          30,
          21,
          28,
          40,
          null,
          24,
          5,
          23,
          17,
          16,
          15,
          28,
          50,
          null,
          null,
          35
         ],
         "xaxis": "x",
         "y": [
          21,
          33,
          null,
          32,
          39,
          30,
          null,
          19,
          22,
          30,
          18,
          38,
          2,
          18,
          23,
          21,
          58,
          3,
          13,
          null,
          30,
          16,
          null,
          1,
          null,
          17,
          21,
          18,
          4,
          null,
          null,
          26,
          31,
          27,
          30.5,
          24,
          0.75,
          null,
          18,
          23,
          36,
          22,
          null,
          20,
          3,
          25,
          22,
          16,
          2,
          18,
          45,
          18,
          27,
          null,
          25,
          31,
          4,
          null,
          32.5,
          2,
          11,
          null,
          19,
          8,
          4,
          42,
          14.5,
          5,
          null,
          6,
          19,
          7,
          35,
          14,
          50,
          22,
          21,
          22,
          18,
          null,
          5,
          null,
          30,
          30,
          20,
          10,
          9,
          36,
          22,
          37,
          null,
          22,
          5,
          13,
          38,
          26,
          19,
          null,
          15,
          null,
          4,
          null,
          30,
          18,
          24,
          4,
          22,
          null,
          8,
          null,
          1,
          6,
          54,
          2,
          9,
          40,
          41,
          null,
          31,
          22,
          26,
          15,
          30,
          null,
          30,
          21,
          28,
          40,
          null,
          24,
          5,
          23,
          17,
          16,
          15,
          28,
          50,
          null,
          null,
          35
         ],
         "yaxis": "y"
        },
        {
         "hovertemplate": "Honorifics= Master<br>Age=%{y}<extra></extra>",
         "legendgroup": " Master",
         "marker": {
          "color": "#ab63fa",
          "symbol": "circle"
         },
         "mode": "markers",
         "name": " Master",
         "orientation": "v",
         "showlegend": true,
         "type": "scatter",
         "x": [
          4,
          10,
          7,
          7,
          3,
          null,
          9,
          12,
          0.83,
          6,
          3,
          null,
          0.42,
          null,
          3,
          2,
          1,
          0.67,
          4,
          11,
          8,
          4,
          0.83,
          2,
          4,
          1,
          0.92,
          3,
          9,
          1,
          1
         ],
         "xaxis": "x",
         "y": [
          4,
          10,
          7,
          7,
          3,
          null,
          9,
          12,
          0.83,
          6,
          3,
          null,
          0.42,
          null,
          3,
          2,
          1,
          0.67,
          4,
          11,
          8,
          4,
          0.83,
          2,
          4,
          1,
          0.92,
          3,
          9,
          1,
          1
         ],
         "yaxis": "y"
        },
        {
         "hovertemplate": "Honorifics= Dr<br>Age=%{y}<extra></extra>",
         "legendgroup": " Dr",
         "marker": {
          "color": "#FFA15A",
          "symbol": "circle"
         },
         "mode": "markers",
         "name": " Dr",
         "orientation": "v",
         "showlegend": true,
         "type": "scatter",
         "x": [
          49,
          50,
          54,
          32,
          null,
          23
         ],
         "xaxis": "x",
         "y": [
          49,
          50,
          54,
          32,
          null,
          23
         ],
         "yaxis": "y"
        }
       ],
       "layout": {
        "legend": {
         "title": {
          "text": "Honorifics"
         },
         "tracegroupgap": 0
        },
        "margin": {
         "t": 60
        },
        "template": {
         "data": {
          "bar": [
           {
            "error_x": {
             "color": "#2a3f5f"
            },
            "error_y": {
             "color": "#2a3f5f"
            },
            "marker": {
             "line": {
              "color": "#E5ECF6",
              "width": 0.5
             },
             "pattern": {
              "fillmode": "overlay",
              "size": 10,
              "solidity": 0.2
             }
            },
            "type": "bar"
           }
          ],
          "barpolar": [
           {
            "marker": {
             "line": {
              "color": "#E5ECF6",
              "width": 0.5
             },
             "pattern": {
              "fillmode": "overlay",
              "size": 10,
              "solidity": 0.2
             }
            },
            "type": "barpolar"
           }
          ],
          "carpet": [
           {
            "aaxis": {
             "endlinecolor": "#2a3f5f",
             "gridcolor": "white",
             "linecolor": "white",
             "minorgridcolor": "white",
             "startlinecolor": "#2a3f5f"
            },
            "baxis": {
             "endlinecolor": "#2a3f5f",
             "gridcolor": "white",
             "linecolor": "white",
             "minorgridcolor": "white",
             "startlinecolor": "#2a3f5f"
            },
            "type": "carpet"
           }
          ],
          "choropleth": [
           {
            "colorbar": {
             "outlinewidth": 0,
             "ticks": ""
            },
            "type": "choropleth"
           }
          ],
          "contour": [
           {
            "colorbar": {
             "outlinewidth": 0,
             "ticks": ""
            },
            "colorscale": [
             [
              0,
              "#0d0887"
             ],
             [
              0.1111111111111111,
              "#46039f"
             ],
             [
              0.2222222222222222,
              "#7201a8"
             ],
             [
              0.3333333333333333,
              "#9c179e"
             ],
             [
              0.4444444444444444,
              "#bd3786"
             ],
             [
              0.5555555555555556,
              "#d8576b"
             ],
             [
              0.6666666666666666,
              "#ed7953"
             ],
             [
              0.7777777777777778,
              "#fb9f3a"
             ],
             [
              0.8888888888888888,
              "#fdca26"
             ],
             [
              1,
              "#f0f921"
             ]
            ],
            "type": "contour"
           }
          ],
          "contourcarpet": [
           {
            "colorbar": {
             "outlinewidth": 0,
             "ticks": ""
            },
            "type": "contourcarpet"
           }
          ],
          "heatmap": [
           {
            "colorbar": {
             "outlinewidth": 0,
             "ticks": ""
            },
            "colorscale": [
             [
              0,
              "#0d0887"
             ],
             [
              0.1111111111111111,
              "#46039f"
             ],
             [
              0.2222222222222222,
              "#7201a8"
             ],
             [
              0.3333333333333333,
              "#9c179e"
             ],
             [
              0.4444444444444444,
              "#bd3786"
             ],
             [
              0.5555555555555556,
              "#d8576b"
             ],
             [
              0.6666666666666666,
              "#ed7953"
             ],
             [
              0.7777777777777778,
              "#fb9f3a"
             ],
             [
              0.8888888888888888,
              "#fdca26"
             ],
             [
              1,
              "#f0f921"
             ]
            ],
            "type": "heatmap"
           }
          ],
          "heatmapgl": [
           {
            "colorbar": {
             "outlinewidth": 0,
             "ticks": ""
            },
            "colorscale": [
             [
              0,
              "#0d0887"
             ],
             [
              0.1111111111111111,
              "#46039f"
             ],
             [
              0.2222222222222222,
              "#7201a8"
             ],
             [
              0.3333333333333333,
              "#9c179e"
             ],
             [
              0.4444444444444444,
              "#bd3786"
             ],
             [
              0.5555555555555556,
              "#d8576b"
             ],
             [
              0.6666666666666666,
              "#ed7953"
             ],
             [
              0.7777777777777778,
              "#fb9f3a"
             ],
             [
              0.8888888888888888,
              "#fdca26"
             ],
             [
              1,
              "#f0f921"
             ]
            ],
            "type": "heatmapgl"
           }
          ],
          "histogram": [
           {
            "marker": {
             "pattern": {
              "fillmode": "overlay",
              "size": 10,
              "solidity": 0.2
             }
            },
            "type": "histogram"
           }
          ],
          "histogram2d": [
           {
            "colorbar": {
             "outlinewidth": 0,
             "ticks": ""
            },
            "colorscale": [
             [
              0,
              "#0d0887"
             ],
             [
              0.1111111111111111,
              "#46039f"
             ],
             [
              0.2222222222222222,
              "#7201a8"
             ],
             [
              0.3333333333333333,
              "#9c179e"
             ],
             [
              0.4444444444444444,
              "#bd3786"
             ],
             [
              0.5555555555555556,
              "#d8576b"
             ],
             [
              0.6666666666666666,
              "#ed7953"
             ],
             [
              0.7777777777777778,
              "#fb9f3a"
             ],
             [
              0.8888888888888888,
              "#fdca26"
             ],
             [
              1,
              "#f0f921"
             ]
            ],
            "type": "histogram2d"
           }
          ],
          "histogram2dcontour": [
           {
            "colorbar": {
             "outlinewidth": 0,
             "ticks": ""
            },
            "colorscale": [
             [
              0,
              "#0d0887"
             ],
             [
              0.1111111111111111,
              "#46039f"
             ],
             [
              0.2222222222222222,
              "#7201a8"
             ],
             [
              0.3333333333333333,
              "#9c179e"
             ],
             [
              0.4444444444444444,
              "#bd3786"
             ],
             [
              0.5555555555555556,
              "#d8576b"
             ],
             [
              0.6666666666666666,
              "#ed7953"
             ],
             [
              0.7777777777777778,
              "#fb9f3a"
             ],
             [
              0.8888888888888888,
              "#fdca26"
             ],
             [
              1,
              "#f0f921"
             ]
            ],
            "type": "histogram2dcontour"
           }
          ],
          "mesh3d": [
           {
            "colorbar": {
             "outlinewidth": 0,
             "ticks": ""
            },
            "type": "mesh3d"
           }
          ],
          "parcoords": [
           {
            "line": {
             "colorbar": {
              "outlinewidth": 0,
              "ticks": ""
             }
            },
            "type": "parcoords"
           }
          ],
          "pie": [
           {
            "automargin": true,
            "type": "pie"
           }
          ],
          "scatter": [
           {
            "fillpattern": {
             "fillmode": "overlay",
             "size": 10,
             "solidity": 0.2
            },
            "type": "scatter"
           }
          ],
          "scatter3d": [
           {
            "line": {
             "colorbar": {
              "outlinewidth": 0,
              "ticks": ""
             }
            },
            "marker": {
             "colorbar": {
              "outlinewidth": 0,
              "ticks": ""
             }
            },
            "type": "scatter3d"
           }
          ],
          "scattercarpet": [
           {
            "marker": {
             "colorbar": {
              "outlinewidth": 0,
              "ticks": ""
             }
            },
            "type": "scattercarpet"
           }
          ],
          "scattergeo": [
           {
            "marker": {
             "colorbar": {
              "outlinewidth": 0,
              "ticks": ""
             }
            },
            "type": "scattergeo"
           }
          ],
          "scattergl": [
           {
            "marker": {
             "colorbar": {
              "outlinewidth": 0,
              "ticks": ""
             }
            },
            "type": "scattergl"
           }
          ],
          "scattermapbox": [
           {
            "marker": {
             "colorbar": {
              "outlinewidth": 0,
              "ticks": ""
             }
            },
            "type": "scattermapbox"
           }
          ],
          "scatterpolar": [
           {
            "marker": {
             "colorbar": {
              "outlinewidth": 0,
              "ticks": ""
             }
            },
            "type": "scatterpolar"
           }
          ],
          "scatterpolargl": [
           {
            "marker": {
             "colorbar": {
              "outlinewidth": 0,
              "ticks": ""
             }
            },
            "type": "scatterpolargl"
           }
          ],
          "scatterternary": [
           {
            "marker": {
             "colorbar": {
              "outlinewidth": 0,
              "ticks": ""
             }
            },
            "type": "scatterternary"
           }
          ],
          "surface": [
           {
            "colorbar": {
             "outlinewidth": 0,
             "ticks": ""
            },
            "colorscale": [
             [
              0,
              "#0d0887"
             ],
             [
              0.1111111111111111,
              "#46039f"
             ],
             [
              0.2222222222222222,
              "#7201a8"
             ],
             [
              0.3333333333333333,
              "#9c179e"
             ],
             [
              0.4444444444444444,
              "#bd3786"
             ],
             [
              0.5555555555555556,
              "#d8576b"
             ],
             [
              0.6666666666666666,
              "#ed7953"
             ],
             [
              0.7777777777777778,
              "#fb9f3a"
             ],
             [
              0.8888888888888888,
              "#fdca26"
             ],
             [
              1,
              "#f0f921"
             ]
            ],
            "type": "surface"
           }
          ],
          "table": [
           {
            "cells": {
             "fill": {
              "color": "#EBF0F8"
             },
             "line": {
              "color": "white"
             }
            },
            "header": {
             "fill": {
              "color": "#C8D4E3"
             },
             "line": {
              "color": "white"
             }
            },
            "type": "table"
           }
          ]
         },
         "layout": {
          "annotationdefaults": {
           "arrowcolor": "#2a3f5f",
           "arrowhead": 0,
           "arrowwidth": 1
          },
          "autotypenumbers": "strict",
          "coloraxis": {
           "colorbar": {
            "outlinewidth": 0,
            "ticks": ""
           }
          },
          "colorscale": {
           "diverging": [
            [
             0,
             "#8e0152"
            ],
            [
             0.1,
             "#c51b7d"
            ],
            [
             0.2,
             "#de77ae"
            ],
            [
             0.3,
             "#f1b6da"
            ],
            [
             0.4,
             "#fde0ef"
            ],
            [
             0.5,
             "#f7f7f7"
            ],
            [
             0.6,
             "#e6f5d0"
            ],
            [
             0.7,
             "#b8e186"
            ],
            [
             0.8,
             "#7fbc41"
            ],
            [
             0.9,
             "#4d9221"
            ],
            [
             1,
             "#276419"
            ]
           ],
           "sequential": [
            [
             0,
             "#0d0887"
            ],
            [
             0.1111111111111111,
             "#46039f"
            ],
            [
             0.2222222222222222,
             "#7201a8"
            ],
            [
             0.3333333333333333,
             "#9c179e"
            ],
            [
             0.4444444444444444,
             "#bd3786"
            ],
            [
             0.5555555555555556,
             "#d8576b"
            ],
            [
             0.6666666666666666,
             "#ed7953"
            ],
            [
             0.7777777777777778,
             "#fb9f3a"
            ],
            [
             0.8888888888888888,
             "#fdca26"
            ],
            [
             1,
             "#f0f921"
            ]
           ],
           "sequentialminus": [
            [
             0,
             "#0d0887"
            ],
            [
             0.1111111111111111,
             "#46039f"
            ],
            [
             0.2222222222222222,
             "#7201a8"
            ],
            [
             0.3333333333333333,
             "#9c179e"
            ],
            [
             0.4444444444444444,
             "#bd3786"
            ],
            [
             0.5555555555555556,
             "#d8576b"
            ],
            [
             0.6666666666666666,
             "#ed7953"
            ],
            [
             0.7777777777777778,
             "#fb9f3a"
            ],
            [
             0.8888888888888888,
             "#fdca26"
            ],
            [
             1,
             "#f0f921"
            ]
           ]
          },
          "colorway": [
           "#636efa",
           "#EF553B",
           "#00cc96",
           "#ab63fa",
           "#FFA15A",
           "#19d3f3",
           "#FF6692",
           "#B6E880",
           "#FF97FF",
           "#FECB52"
          ],
          "font": {
           "color": "#2a3f5f"
          },
          "geo": {
           "bgcolor": "white",
           "lakecolor": "white",
           "landcolor": "#E5ECF6",
           "showlakes": true,
           "showland": true,
           "subunitcolor": "white"
          },
          "hoverlabel": {
           "align": "left"
          },
          "hovermode": "closest",
          "mapbox": {
           "style": "light"
          },
          "paper_bgcolor": "white",
          "plot_bgcolor": "#E5ECF6",
          "polar": {
           "angularaxis": {
            "gridcolor": "white",
            "linecolor": "white",
            "ticks": ""
           },
           "bgcolor": "#E5ECF6",
           "radialaxis": {
            "gridcolor": "white",
            "linecolor": "white",
            "ticks": ""
           }
          },
          "scene": {
           "xaxis": {
            "backgroundcolor": "#E5ECF6",
            "gridcolor": "white",
            "gridwidth": 2,
            "linecolor": "white",
            "showbackground": true,
            "ticks": "",
            "zerolinecolor": "white"
           },
           "yaxis": {
            "backgroundcolor": "#E5ECF6",
            "gridcolor": "white",
            "gridwidth": 2,
            "linecolor": "white",
            "showbackground": true,
            "ticks": "",
            "zerolinecolor": "white"
           },
           "zaxis": {
            "backgroundcolor": "#E5ECF6",
            "gridcolor": "white",
            "gridwidth": 2,
            "linecolor": "white",
            "showbackground": true,
            "ticks": "",
            "zerolinecolor": "white"
           }
          },
          "shapedefaults": {
           "line": {
            "color": "#2a3f5f"
           }
          },
          "ternary": {
           "aaxis": {
            "gridcolor": "white",
            "linecolor": "white",
            "ticks": ""
           },
           "baxis": {
            "gridcolor": "white",
            "linecolor": "white",
            "ticks": ""
           },
           "bgcolor": "#E5ECF6",
           "caxis": {
            "gridcolor": "white",
            "linecolor": "white",
            "ticks": ""
           }
          },
          "title": {
           "x": 0.05
          },
          "xaxis": {
           "automargin": true,
           "gridcolor": "white",
           "linecolor": "white",
           "ticks": "",
           "title": {
            "standoff": 15
           },
           "zerolinecolor": "white",
           "zerolinewidth": 2
          },
          "yaxis": {
           "automargin": true,
           "gridcolor": "white",
           "linecolor": "white",
           "ticks": "",
           "title": {
            "standoff": 15
           },
           "zerolinecolor": "white",
           "zerolinewidth": 2
          }
         }
        },
        "xaxis": {
         "anchor": "y",
         "domain": [
          0,
          1
         ],
         "title": {
          "text": "Age"
         }
        },
        "yaxis": {
         "anchor": "x",
         "domain": [
          0,
          1
         ],
         "title": {
          "text": "Age"
         }
        }
       }
      }
     },
     "metadata": {},
     "output_type": "display_data"
    }
   ],
   "source": [
    "fig = px.scatter(train_df.loc[train_df['Honorifics'].isin(list(honorifies_df.index))], x=\"Age\", y=\"Age\", color=\"Honorifics\")\n",
    "fig.show()"
   ]
  },
  {
   "attachments": {},
   "cell_type": "markdown",
   "metadata": {},
   "source": [
    "<p style=\"background-color: #32656e\"><i>Using <i><b>Honorifics</b></i> to impute <i><b>Age</b></i> will be better than using just a mean of <i><b>Age</b></i> column, because people with different honorifics have different age range and therefore, different mean age. </i></p>"
   ]
  },
  {
   "cell_type": "code",
   "execution_count": 171,
   "metadata": {},
   "outputs": [
    {
     "data": {
      "text/plain": [
       "{' Dr': 42.0, ' Master': 4.0, ' Miss': 21.0, ' Mr': 32.0, ' Mrs': 36.0}"
      ]
     },
     "execution_count": 171,
     "metadata": {},
     "output_type": "execute_result"
    }
   ],
   "source": [
    "# Get average for each Honorific with missing Age value\n",
    "age_mapping = train_df.loc[train_df['Honorifics'].isin(list(honorifies_df.index)), ['Age', 'Honorifics']].groupby('Honorifics').mean().round().to_dict()[\"Age\"]\n",
    "age_mapping"
   ]
  },
  {
   "cell_type": "code",
   "execution_count": 182,
   "metadata": {},
   "outputs": [],
   "source": [
    "# Imputing Age\n",
    "train_df[\"Age\"] = np.where(train_df.Age.isna(), train_df['Honorifics'].map(age_mapping), train_df.Age)\n",
    "test_df[\"Age\"] = np.where(test_df.Age.isna(), test_df['Honorifics'].map(age_mapping), test_df.Age)"
   ]
  },
  {
   "attachments": {},
   "cell_type": "markdown",
   "metadata": {},
   "source": [
    "<p style=\"background-color: #32656e\"><i>Now that missing values have been taken care of, let's make some graphs</i></p>"
   ]
  },
  {
   "attachments": {},
   "cell_type": "markdown",
   "metadata": {},
   "source": [
    "### Make Graphs and Get Insight"
   ]
  },
  {
   "cell_type": "code",
   "execution_count": null,
   "metadata": {},
   "outputs": [],
   "source": [
    "sns."
   ]
  }
 ],
 "metadata": {
  "kernelspec": {
   "display_name": "streamlit-env",
   "language": "python",
   "name": "python3"
  },
  "language_info": {
   "codemirror_mode": {
    "name": "ipython",
    "version": 3
   },
   "file_extension": ".py",
   "mimetype": "text/x-python",
   "name": "python",
   "nbconvert_exporter": "python",
   "pygments_lexer": "ipython3",
   "version": "3.10.11"
  },
  "orig_nbformat": 4
 },
 "nbformat": 4,
 "nbformat_minor": 2
}
